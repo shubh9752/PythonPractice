{
 "cells": [
  {
   "cell_type": "code",
   "execution_count": 28,
   "metadata": {},
   "outputs": [
    {
     "name": "stdout",
     "output_type": "stream",
     "text": [
      "[43, 23, 25, 75]\n"
     ]
    }
   ],
   "source": [
    "def separateOddnEven(arr):\n",
    "    odd=[]\n",
    "    even=[]\n",
    "    for i in arr:\n",
    "        [even.append(i) if(i%2==0)  else odd.append(i)]\n",
    "    # return [odd,even]\n",
    "    return (odd,even)\n",
    "li=[10,43,23,80,10,25,40,75]\n",
    "res=separateOddnEven(li)\n",
    "odd,even=res\n",
    "# print(\"Odd numbers are :\", res[0])\n",
    "print(odd)\n",
    "# print(\"Even numbers are : \", res[1])"
   ]
  },
  {
   "cell_type": "code",
   "execution_count": 4,
   "metadata": {},
   "outputs": [
    {
     "name": "stdout",
     "output_type": "stream",
     "text": [
      "[10, 23, 10, 25]\n"
     ]
    }
   ],
   "source": [
    "def smaller(li,num):\n",
    "    least=[]\n",
    "    for i in li:\n",
    "        if i < num:\n",
    "            least.append(i)\n",
    "    return least\n",
    "\n",
    "res=smaller(li,40)\n",
    "print(res)"
   ]
  },
  {
   "cell_type": "code",
   "execution_count": 12,
   "metadata": {},
   "outputs": [
    {
     "name": "stdout",
     "output_type": "stream",
     "text": [
      "80\n"
     ]
    }
   ],
   "source": [
    "def largestElement(li):\n",
    "    # largest=0\n",
    "    # for i in li:\n",
    "    #     for j in li:\n",
    "    #         if j>i:\n",
    "    #             largest=j\n",
    "    #             break\n",
    "    # return largest\n",
    "    res=li[0]\n",
    "    for i in range(1,len(li)):\n",
    "        if li[i]>res:\n",
    "            res=li[i]\n",
    "    return res\n",
    "            \n",
    "print(largestElement(li))"
   ]
  },
  {
   "cell_type": "code",
   "execution_count": 37,
   "metadata": {},
   "outputs": [
    {
     "name": "stdout",
     "output_type": "stream",
     "text": [
      "20\n"
     ]
    }
   ],
   "source": [
    "def seconfdLar(li):\n",
    "    lar=0\n",
    "    slar=0\n",
    "    if(li[0]>li[1]):\n",
    "        lar=li[0]\n",
    "        slar=li[1]\n",
    "    else:\n",
    "        lar=li[1]\n",
    "        slar=li[0]\n",
    "    for i in li[2::]:\n",
    "        if i>lar:\n",
    "            slar=lar\n",
    "            lar=i\n",
    "        elif i>slar and i!=lar:\n",
    "            slar=i\n",
    "    return slar\n",
    "li2=[20,10,5,3,80]\n",
    "print(seconfdLar(li2))"
   ]
  },
  {
   "cell_type": "code",
   "execution_count": 47,
   "metadata": {},
   "outputs": [
    {
     "name": "stdout",
     "output_type": "stream",
     "text": [
      "True\n"
     ]
    }
   ],
   "source": [
    "#sortedlist\n",
    "def isSorted(li):\n",
    "    # res=None\n",
    "    # temp=1\n",
    "    # for i in li:\n",
    "    #     print(f\"{i} res {res}\")\n",
    "        \n",
    "    #     for j in li[temp::]:\n",
    "    #         print(f\"j={j} res {res}\")\n",
    "    #         if i<j :\n",
    "    #             res=True\n",
    "    #         else:\n",
    "    #             print(f\"j={j} else res {res}\")\n",
    "    #             return False\n",
    "            \n",
    "    #     temp=temp+1\n",
    "    # return res \n",
    "     for i in range(len(li) - 1):  # Iterate up to the second to last element\n",
    "        if li[i] > li[i + 1]:\n",
    "            return False\n",
    "     return True\n",
    "li3=[10,20,20,30,40]\n",
    "print(isSorted(li3))   \n"
   ]
  },
  {
   "cell_type": "code",
   "execution_count": 83,
   "metadata": {},
   "outputs": [
    {
     "name": "stdout",
     "output_type": "stream",
     "text": [
      "[10, 5, 2, 1]\n"
     ]
    }
   ],
   "source": [
    "#find unique\n",
    "def findUnique(li):\n",
    "    # solo=[]\n",
    "    duplicates=[]\n",
    "    # unique=[]\n",
    "    # for i in li:\n",
    "    #     if i not in unique:\n",
    "    #         unique.append(i)\n",
    "        \n",
    "    for i in range(len(li)):\n",
    "        for j in range(i+1,len(li)):\n",
    "            if li[i]==li[j]and i !=j:\n",
    "                duplicates.append(li[i])\n",
    "    # for i in unique:\n",
    "    #     if i not in  duplicates:\n",
    "    #         solo.append(i)\n",
    "   \n",
    "    mast=[]\n",
    "    for i in range(len(li)):\n",
    "        count=0\n",
    "        for j in range(len(li)):\n",
    "            if li[i]==li[j]:\n",
    "                count=count+1\n",
    "                # print(count)\n",
    "        if count==1:\n",
    "            mast.append(li[i])\n",
    "      \n",
    "             \n",
    "    return mast,duplicates\n",
    "\n",
    "            \n",
    "\n",
    "li4=[10,5,2,1,10,5,2,1,4]\n",
    "mast,duplicates=findUnique(li4)\n",
    "print(duplicates)"
   ]
  },
  {
   "cell_type": "code",
   "execution_count": 1,
   "metadata": {},
   "outputs": [
    {
     "name": "stdout",
     "output_type": "stream",
     "text": [
      "[10, 50, 58]\n"
     ]
    }
   ],
   "source": [
    "#intersection\n",
    "\n",
    "li=[10,50,33,50,20,58,10,10]\n",
    "li2=[65,50,10,67,49,10,58]\n",
    "\n",
    "# li.index(33)\n",
    "\n",
    "def  intersection(a,b):\n",
    "    ele=[]\n",
    "    for i in a:\n",
    "        for j in b:\n",
    "            if i==j:\n",
    "                if i not in ele:\n",
    "                  ele.append(i)\n",
    "    return ele\n",
    "                  \n",
    "print(intersection(li,li2))\n",
    "            "
   ]
  },
  {
   "cell_type": "code",
   "execution_count": 5,
   "metadata": {},
   "outputs": [
    {
     "name": "stdout",
     "output_type": "stream",
     "text": [
      "[1, 3, 6, 2, 5, 4, 3, 2, 4]\n",
      "[[0, 2], [1, 8], [1, 5], [3, 4], [4, 7], [5, 6], [6, 8]]\n"
     ]
    }
   ],
   "source": [
    "#pair sum\n",
    "def pairSum(li,num):\n",
    "    # count=0\n",
    "    # for i in range(len(li)):\n",
    "    #     for j in range(i+1,len(li)):\n",
    "    #         if li[i]+li[j]==num:\n",
    "    #             print(f\"i={li[i]}, j={li[j]}\")\n",
    "    #             count=count+1\n",
    "    # return count\n",
    "    #another way\n",
    "    s=0\n",
    "    e=len(li)-1\n",
    "    li1=[]\n",
    "    while e>s:\n",
    "        if li[s]+li[e]==num:\n",
    "             li1.append([s,e])\n",
    "        e=e-1\n",
    "        if e==s:\n",
    "            s=s+1\n",
    "            e=len(li)-1\n",
    "    return li1\n",
    "            \n",
    "            \n",
    "            \n",
    "    \n",
    "# def pairSum(li, num):\n",
    "#     count = 0\n",
    "#     for i in range(len(li)):\n",
    "#         for j in range(i + 1, len(li)):\n",
    "#             if li[i] + li[j] == num:\n",
    "#                 print(f\"({li[i]}, {li[j]})\")\n",
    "#                 count += 1\n",
    "#     return count\n",
    "   \n",
    "li=\"1 3 6 2 5 4 3 2 4\"\n",
    "li=(li.split(\" \"))\n",
    "li=[int(x)for x in li]\n",
    "print(li)\n",
    "print(pairSum(li,7))\n",
    "                 "
   ]
  },
  {
   "cell_type": "code",
   "execution_count": 53,
   "metadata": {},
   "outputs": [
    {
     "name": "stdout",
     "output_type": "stream",
     "text": [
      "8\n"
     ]
    }
   ],
   "source": [
    "#subarrays\n",
    "def subArr(arr):\n",
    "    total=arr[0]\n",
    "    for i in range(len(arr)):\n",
    "        # for j in range(i+1,len(arr)+1):\n",
    "        #     print(arr[i:j:])\n",
    "        \n",
    "        for j in range(i, len(arr)):\n",
    "            sum=0\n",
    "            for k in range(i,j+1):\n",
    "                sum=sum + arr[k]\n",
    "                # print(arr[k],end=\"\")\n",
    "                # print(sum,end=\"  \")\n",
    "            if sum>total:\n",
    "                total=sum\n",
    "    print(total)\n",
    "            \n",
    "li=[5,2,-4,-5, 3,-1,2,3,1]\n",
    "subArr(li)"
   ]
  },
  {
   "cell_type": "code",
   "execution_count": 55,
   "metadata": {},
   "outputs": [
    {
     "name": "stdout",
     "output_type": "stream",
     "text": [
      "[1, 2, 3, 4, 5]\n"
     ]
    }
   ],
   "source": [
    "#running sum\n",
    "def runninSum(arr):\n",
    "    sum=0\n",
    "    result=[]\n",
    "    for i in arr:\n",
    "        sum=sum+i\n",
    "        result.append(sum)\n",
    "    return result\n",
    "li=[1,1,1,1,1]\n",
    "print(runninSum(li))"
   ]
  },
  {
   "cell_type": "code",
   "execution_count": 7,
   "metadata": {},
   "outputs": [
    {
     "name": "stdout",
     "output_type": "stream",
     "text": [
      "[3, 33, 8, 5, 2, 4, 1]\n"
     ]
    }
   ],
   "source": [
    "#reverse array\n",
    "def reverseingArr(arr):\n",
    "    for i in range (0, len(arr)//2):\n",
    "        arr[i], arr[len(arr)-1-i] = arr[len(arr)-1-i], arr[i]\n",
    "\n",
    "li=[1,4,2,5,8,33,3]\n",
    "reverseingArr(li)\n",
    "print(li)"
   ]
  },
  {
   "cell_type": "code",
   "execution_count": 2,
   "metadata": {},
   "outputs": [
    {
     "name": "stdout",
     "output_type": "stream",
     "text": [
      "5\n",
      "(4, 5)\n"
     ]
    }
   ],
   "source": [
    "def Unique(arr):\n",
    "    uniueI=set(arr)\n",
    "    # for i in arr:\n",
    "    #     if i not in uniueI:\n",
    "    #         uniueI.append(i)\n",
    "    \n",
    "    for i in uniueI:\n",
    "        count=0\n",
    "        for j in arr:\n",
    "            if i==j:\n",
    "                count=count+1\n",
    "        if  count==1:\n",
    "            return i\n",
    "li=[4,6,2,8,6,4,5,6,2,8,8]\n",
    "print(Unique(li))\n",
    "\n",
    "            \n",
    "            \n",
    "li=[20,40,60,80,90,120,240]\n",
    "\n",
    "def greedy(arr,tar):\n",
    "    l=0\n",
    "    r=len(arr)-1\n",
    "    while l<=r:\n",
    "        if  arr[l]+arr[r]==tar:\n",
    "            return l,r\n",
    "        elif arr[l]+arr[r]>tar:\n",
    "            r=r-1\n",
    "        else:\n",
    "            l=l+1\n",
    "print(greedy(li,210))\n",
    "   \n",
    "        \n"
   ]
  },
  {
   "cell_type": "code",
   "execution_count": 1,
   "metadata": {},
   "outputs": [
    {
     "name": "stdout",
     "output_type": "stream",
     "text": [
      "12\n"
     ]
    }
   ],
   "source": [
    "# best time to buy and sell stock\n",
    "def maxProfit(li):\n",
    "    # minprice=float('inf')\n",
    "    # maxPro=0\n",
    "    # for i in range(len(li)):\n",
    "    #     if li[i]<minprice:\n",
    "    #         minprice=li[i]\n",
    "    #     elif li[i]-minprice>maxPro:\n",
    "    #         maxPro=li[i]-minprice\n",
    "    # return maxPro\n",
    "    min=li[0]\n",
    "    maxpro=0\n",
    "    for i in range(0,len(li)):\n",
    "        if li[i]<min:\n",
    "            min=li[i]\n",
    "        elif li[i]-min>maxpro:\n",
    "            maxpro=li[i]-min\n",
    "    return maxpro\n",
    "    \n",
    "    \n",
    "price=[7,1,4,5,6,3,13]\n",
    "max_pro=maxProfit(price)\n",
    "print(max_pro)\n",
    "\n"
   ]
  },
  {
   "cell_type": "code",
   "execution_count": 1,
   "metadata": {},
   "outputs": [
    {
     "name": "stdout",
     "output_type": "stream",
     "text": [
      "[1, 2, 3, 6, 7, 7, 56]\n"
     ]
    }
   ],
   "source": [
    "#bubble sort\n",
    "def bubbleSort(arr):\n",
    "    l=len(arr)\n",
    "    for i in range(l-1):\n",
    "        for j in range(l-i-1):   \n",
    "            if arr[j] > arr[j+1]:\n",
    "                arr[j],arr[j+1]=arr[j+1],arr[j]\n",
    "    return arr\n",
    "\n",
    "li=[2,6,7,3,7,1,56]\n",
    "print(bubbleSort(li))"
   ]
  },
  {
   "cell_type": "code",
   "execution_count": 35,
   "metadata": {},
   "outputs": [
    {
     "name": "stdout",
     "output_type": "stream",
     "text": [
      "[1, 2, 3, 6, 7, 7, 56]\n"
     ]
    }
   ],
   "source": [
    "#selection sort\n",
    "def selectionSort(arr):\n",
    "    l=len(arr)\n",
    "    for i in range(l-1):           #i=0,e=2\n",
    "        min_l=i                    #min=0\n",
    "        for j in range(i+1,l):     #j=1\n",
    "            if arr[j]<arr[min_l]:  #arr[j]=2\n",
    "                min_l=j\n",
    "                arr[i],arr[min_l]=arr[min_l],arr[i]\n",
    "    return arr\n",
    "li=[2,6,7,3,7,1,56]\n",
    "print(selectionSort(li))"
   ]
  },
  {
   "cell_type": "code",
   "execution_count": 9,
   "metadata": {},
   "outputs": [
    {
     "name": "stdout",
     "output_type": "stream",
     "text": [
      "[1, 2, 3, 6, 7, 7, 56]\n"
     ]
    }
   ],
   "source": [
    "#insertion sort\n",
    "def insertionSort(li):\n",
    "    for i in range(1,len(li)):\n",
    "        temp=li[i]\n",
    "        j=i-1\n",
    "        while j>=0 and li[j]>temp:\n",
    "            li[j+1]=li[j]\n",
    "            j=j-1\n",
    "        li[j+1]=temp\n",
    "    return li\n",
    "li=[2,6,7,3,7,1,56]\n",
    "print(insertionSort(li))"
   ]
  },
  {
   "cell_type": "code",
   "execution_count": 10,
   "metadata": {},
   "outputs": [
    {
     "name": "stdout",
     "output_type": "stream",
     "text": [
      "[7, 1, 56, 2, 6, 7, 3]\n"
     ]
    }
   ],
   "source": [
    "# rotate array from k index\n",
    "def rotateArr(arr,k):\n",
    "    for i in range(0,k+1):\n",
    "        arr.append(arr.pop(0))\n",
    "    return arr\n",
    "li=[2,6,7,3,7,1,56]\n",
    "# new=arr.pop(arr[0])\n",
    "print(rotateArr(li,3))\n",
    "\n",
    "       "
   ]
  },
  {
   "cell_type": "code",
   "execution_count": 23,
   "metadata": {},
   "outputs": [
    {
     "name": "stdout",
     "output_type": "stream",
     "text": [
      "[5, 6]\n"
     ]
    }
   ],
   "source": [
    "# disappearing elements\n",
    "def disappear(li):\n",
    "    li1=[]\n",
    "    for i in range(1,len(li)):\n",
    "        if i not in li:\n",
    "            li1.append(i)\n",
    "    return li1 \n",
    "li=[4,3,2,7,8,2,3,1]\n",
    "print(disappear(li))"
   ]
  },
  {
   "cell_type": "code",
   "execution_count": 9,
   "metadata": {},
   "outputs": [
    {
     "name": "stdout",
     "output_type": "stream",
     "text": [
      "(0, 2)\n"
     ]
    }
   ],
   "source": [
    "\n",
    "def findPairSum(arr,target):\n",
    "    l=0\n",
    "    r=len(arr)-1 #7,6,5,4,3,2\n",
    "    while l<r: \n",
    "        if arr[l]+arr[r]==target:\n",
    "            return l,r\n",
    "        elif arr[l]+arr[r]>target:\n",
    "            r=r-1\n",
    "        else:\n",
    "            l=l+1\n",
    "li=[20,30,40,60,80,90,120,240]\n",
    "print(findPairSum(li,60))"
   ]
  },
  {
   "cell_type": "code",
   "execution_count": 3,
   "metadata": {},
   "outputs": [
    {
     "name": "stdout",
     "output_type": "stream",
     "text": [
      "4\n"
     ]
    }
   ],
   "source": [
    "# find peak element exception:you can print any peak\n",
    "def findPeakElement(li): \n",
    "    s=0\n",
    "    e=len(li)\n",
    "    while s<e:\n",
    "        mid=(s+e)//2\n",
    "        if li[mid]<li[mid+1]:\n",
    "            s=mid+1\n",
    "        else:\n",
    "            e=mid\n",
    "    return s           \n",
    "nums = [1,2,3,4,5,3,5,6,4]\n",
    "print(findPeakElement(nums))\n",
    "\n",
    "    "
   ]
  },
  {
   "cell_type": "code",
   "execution_count": 13,
   "metadata": {},
   "outputs": [
    {
     "name": "stdout",
     "output_type": "stream",
     "text": [
      "[3, 8]\n"
     ]
    }
   ],
   "source": [
    "# first and last occurance of element\n",
    "def findFirstAndLastOccurrence(li,ele):\n",
    "    first_occurrence = findOccurance(li, ele, True)\n",
    "    if first_occurrence == -1:\n",
    "        return [-1, -1]\n",
    "    last_occurrence = findOccurance(li, ele, False)\n",
    "    return [first_occurrence, last_occurrence]\n",
    "    \n",
    "    \n",
    "def findOccurance(li,ele,flag):\n",
    "    s=0\n",
    "    e=len(li)-1\n",
    "    while(s<=e):\n",
    "        mid=s+(e-s)//2\n",
    "        if li[mid]==ele:\n",
    "            if flag:\n",
    "                if li[mid]>li[mid-1]:\n",
    "                    return mid\n",
    "                else:\n",
    "                    e=mid-1\n",
    "            else:\n",
    "                if li[mid]<li[mid+1]:\n",
    "                    return mid\n",
    "                else:\n",
    "                    s=mid+1\n",
    "        elif li[mid]<ele:\n",
    "            s=mid+1\n",
    "        else:\n",
    "            e=mid-1\n",
    "    return -1\n",
    "                       \n",
    "       \n",
    "li=[5,7,7,8,8,8,8,8,8,10]\n",
    "print(findFirstAndLastOccurrence(li,8))\n",
    "            "
   ]
  },
  {
   "cell_type": "code",
   "execution_count": 14,
   "metadata": {},
   "outputs": [
    {
     "name": "stdout",
     "output_type": "stream",
     "text": [
      "None\n"
     ]
    }
   ],
   "source": [
    "def findInRotated(li,target):\n",
    "    s=0\n",
    "    e=len(li)-1\n",
    "    while s<=e:\n",
    "        mid=s+(e-s)//2\n",
    "        if li[mid]==target:\n",
    "            return mid\n",
    "        elif li[mid]>target and li[mid] < li[mid+1]:\n",
    "            s=mid+1\n",
    "        else:\n",
    "            e=mid-1\n",
    "li=nums = [4,5,6,7,0,1,2]\n",
    "print(findInRotated(li,0))"
   ]
  },
  {
   "cell_type": "code",
   "execution_count": 17,
   "metadata": {},
   "outputs": [
    {
     "name": "stdout",
     "output_type": "stream",
     "text": [
      "[[1, 2], [0, 3]]\n"
     ]
    }
   ],
   "source": [
    "def pairsum(li,tar):\n",
    "    s={}\n",
    "    t=[]\n",
    "    for i,num in enumerate(li):\n",
    "        compli=tar-num\n",
    "        if compli in s:\n",
    "            t.append([s[compli],i])\n",
    "        s[num] = i\n",
    "    return t\n",
    "li=nums = [4,5,6,7,0,1,2]\n",
    "print(pairsum(li,11))"
   ]
  }
 ],
 "metadata": {
  "kernelspec": {
   "display_name": "Python 3",
   "language": "python",
   "name": "python3"
  },
  "language_info": {
   "codemirror_mode": {
    "name": "ipython",
    "version": 3
   },
   "file_extension": ".py",
   "mimetype": "text/x-python",
   "name": "python",
   "nbconvert_exporter": "python",
   "pygments_lexer": "ipython3",
   "version": "3.11.4"
  }
 },
 "nbformat": 4,
 "nbformat_minor": 2
}
