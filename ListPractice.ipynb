{
 "cells": [
  {
   "cell_type": "code",
   "execution_count": 28,
   "metadata": {},
   "outputs": [
    {
     "name": "stdout",
     "output_type": "stream",
     "text": [
      "[43, 23, 25, 75]\n"
     ]
    }
   ],
   "source": [
    "def separateOddnEven(arr):\n",
    "    odd=[]\n",
    "    even=[]\n",
    "    for i in arr:\n",
    "        [even.append(i) if(i%2==0)  else odd.append(i)]\n",
    "    # return [odd,even]\n",
    "    return (odd,even)\n",
    "li=[10,43,23,80,10,25,40,75]\n",
    "res=separateOddnEven(li)\n",
    "odd,even=res\n",
    "# print(\"Odd numbers are :\", res[0])\n",
    "print(odd)\n",
    "# print(\"Even numbers are : \", res[1])"
   ]
  },
  {
   "cell_type": "code",
   "execution_count": 4,
   "metadata": {},
   "outputs": [
    {
     "name": "stdout",
     "output_type": "stream",
     "text": [
      "[10, 23, 10, 25]\n"
     ]
    }
   ],
   "source": [
    "def smaller(li,num):\n",
    "    least=[]\n",
    "    for i in li:\n",
    "        if i < num:\n",
    "            least.append(i)\n",
    "    return least\n",
    "\n",
    "res=smaller(li,40)\n",
    "print(res)"
   ]
  },
  {
   "cell_type": "code",
   "execution_count": 12,
   "metadata": {},
   "outputs": [
    {
     "name": "stdout",
     "output_type": "stream",
     "text": [
      "80\n"
     ]
    }
   ],
   "source": [
    "def largestElement(li):\n",
    "    # largest=0\n",
    "    # for i in li:\n",
    "    #     for j in li:\n",
    "    #         if j>i:\n",
    "    #             largest=j\n",
    "    #             break\n",
    "    # return largest\n",
    "    res=li[0]\n",
    "    for i in range(1,len(li)):\n",
    "        if li[i]>res:\n",
    "            res=li[i]\n",
    "    return res\n",
    "            \n",
    "print(largestElement(li))"
   ]
  },
  {
   "cell_type": "code",
   "execution_count": 37,
   "metadata": {},
   "outputs": [
    {
     "name": "stdout",
     "output_type": "stream",
     "text": [
      "20\n"
     ]
    }
   ],
   "source": [
    "def seconfdLar(li):\n",
    "    lar=0\n",
    "    slar=0\n",
    "    if(li[0]>li[1]):\n",
    "        lar=li[0]\n",
    "        slar=li[1]\n",
    "    else:\n",
    "        lar=li[1]\n",
    "        slar=li[0]\n",
    "    for i in li[2::]:\n",
    "        if i>lar:\n",
    "            slar=lar\n",
    "            lar=i\n",
    "        elif i>slar and i!=lar:\n",
    "            slar=i\n",
    "    return slar\n",
    "li2=[20,10,5,3,80]\n",
    "print(seconfdLar(li2))"
   ]
  },
  {
   "cell_type": "code",
   "execution_count": 47,
   "metadata": {},
   "outputs": [
    {
     "name": "stdout",
     "output_type": "stream",
     "text": [
      "True\n"
     ]
    }
   ],
   "source": [
    "#sortedlist\n",
    "def isSorted(li):\n",
    "    # res=None\n",
    "    # temp=1\n",
    "    # for i in li:\n",
    "    #     print(f\"{i} res {res}\")\n",
    "        \n",
    "    #     for j in li[temp::]:\n",
    "    #         print(f\"j={j} res {res}\")\n",
    "    #         if i<j :\n",
    "    #             res=True\n",
    "    #         else:\n",
    "    #             print(f\"j={j} else res {res}\")\n",
    "    #             return False\n",
    "            \n",
    "    #     temp=temp+1\n",
    "    # return res \n",
    "     for i in range(len(li) - 1):  # Iterate up to the second to last element\n",
    "        if li[i] > li[i + 1]:\n",
    "            return False\n",
    "     return True\n",
    "li3=[10,20,20,30,40]\n",
    "print(isSorted(li3))   \n"
   ]
  },
  {
   "cell_type": "code",
   "execution_count": 83,
   "metadata": {},
   "outputs": [
    {
     "name": "stdout",
     "output_type": "stream",
     "text": [
      "[10, 5, 2, 1]\n"
     ]
    }
   ],
   "source": [
    "#find unique\n",
    "def findUnique(li):\n",
    "    # solo=[]\n",
    "    duplicates=[]\n",
    "    # unique=[]\n",
    "    # for i in li:\n",
    "    #     if i not in unique:\n",
    "    #         unique.append(i)\n",
    "        \n",
    "    for i in range(len(li)):\n",
    "        for j in range(i+1,len(li)):\n",
    "            if li[i]==li[j]and i !=j:\n",
    "                duplicates.append(li[i])\n",
    "    # for i in unique:\n",
    "    #     if i not in  duplicates:\n",
    "    #         solo.append(i)\n",
    "   \n",
    "    mast=[]\n",
    "    for i in range(len(li)):\n",
    "        count=0\n",
    "        for j in range(len(li)):\n",
    "            if li[i]==li[j]:\n",
    "                count=count+1\n",
    "                # print(count)\n",
    "        if count==1:\n",
    "            mast.append(li[i])\n",
    "      \n",
    "             \n",
    "    return mast,duplicates\n",
    "\n",
    "            \n",
    "\n",
    "li4=[10,5,2,1,10,5,2,1,4]\n",
    "mast,duplicates=findUnique(li4)\n",
    "print(duplicates)"
   ]
  },
  {
   "cell_type": "code",
   "execution_count": 7,
   "metadata": {},
   "outputs": [
    {
     "name": "stdout",
     "output_type": "stream",
     "text": [
      "[10, 50, 58]\n"
     ]
    }
   ],
   "source": [
    "#intersection\n",
    "\n",
    "li=[10,50,33,50,20,58,10,10]\n",
    "li2=[65,50,10,67,49,10,58]\n",
    "\n",
    "# li.index(33)\n",
    "\n",
    "def  intersection(a,b):\n",
    "    ele=[]\n",
    "    for i in a:\n",
    "        for j in b:\n",
    "            if i==j:\n",
    "                if i not in ele:\n",
    "                  ele.append(i)\n",
    "    return ele\n",
    "                  \n",
    "print(intersection(li,li2))\n",
    "            "
   ]
  },
  {
   "cell_type": "code",
   "execution_count": 34,
   "metadata": {},
   "outputs": [
    {
     "name": "stdout",
     "output_type": "stream",
     "text": [
      "[1, 3, 6, 2, 5, 4, 3, 2, 4]\n",
      "i=1, j=6\n",
      "i=3, j=4\n",
      "i=3, j=4\n",
      "i=2, j=5\n",
      "i=5, j=2\n",
      "i=4, j=3\n",
      "i=3, j=4\n",
      "7\n"
     ]
    }
   ],
   "source": [
    "#pair sum\n",
    "def pairSum(li,num):\n",
    "    count=0\n",
    "    for i in range(len(li)):\n",
    "        for j in range(i+1,len(li)):\n",
    "            if li[i]+li[j]==num:\n",
    "                print(f\"i={li[i]}, j={li[j]}\")\n",
    "                count=count+1\n",
    "    return count\n",
    "# def pairSum(li, num):\n",
    "#     count = 0\n",
    "#     for i in range(len(li)):\n",
    "#         for j in range(i + 1, len(li)):\n",
    "#             if li[i] + li[j] == num:\n",
    "#                 print(f\"({li[i]}, {li[j]})\")\n",
    "#                 count += 1\n",
    "#     return count\n",
    "li=\"1 3 6 2 5 4 3 2 4\"\n",
    "li=(li.split(\" \"))\n",
    "li=[int(x)for x in li]\n",
    "print(li)\n",
    "print(pairSum(li,7))\n",
    "                 "
   ]
  },
  {
   "cell_type": "code",
   "execution_count": 53,
   "metadata": {},
   "outputs": [
    {
     "name": "stdout",
     "output_type": "stream",
     "text": [
      "8\n"
     ]
    }
   ],
   "source": [
    "#subarrays\n",
    "def subArr(arr):\n",
    "    total=arr[0]\n",
    "    for i in range(len(arr)):\n",
    "        # for j in range(i+1,len(arr)+1):\n",
    "        #     print(arr[i:j:])\n",
    "        \n",
    "        for j in range(i, len(arr)):\n",
    "            sum=0\n",
    "            for k in range(i,j+1):\n",
    "                sum=sum + arr[k]\n",
    "                # print(arr[k],end=\"\")\n",
    "                # print(sum,end=\"  \")\n",
    "            if sum>total:\n",
    "                total=sum\n",
    "    print(total)\n",
    "            \n",
    "li=[5,2,-4,-5, 3,-1,2,3,1]\n",
    "subArr(li)"
   ]
  },
  {
   "cell_type": "code",
   "execution_count": 55,
   "metadata": {},
   "outputs": [
    {
     "name": "stdout",
     "output_type": "stream",
     "text": [
      "[1, 2, 3, 4, 5]\n"
     ]
    }
   ],
   "source": [
    "#running sum\n",
    "def runninSum(arr):\n",
    "    sum=0\n",
    "    result=[]\n",
    "    for i in arr:\n",
    "        sum=sum+i\n",
    "        result.append(sum)\n",
    "    return result\n",
    "li=[1,1,1,1,1]\n",
    "print(runninSum(li))"
   ]
  },
  {
   "cell_type": "code",
   "execution_count": null,
   "metadata": {},
   "outputs": [],
   "source": []
  }
 ],
 "metadata": {
  "kernelspec": {
   "display_name": "Python 3",
   "language": "python",
   "name": "python3"
  },
  "language_info": {
   "codemirror_mode": {
    "name": "ipython",
    "version": 3
   },
   "file_extension": ".py",
   "mimetype": "text/x-python",
   "name": "python",
   "nbconvert_exporter": "python",
   "pygments_lexer": "ipython3",
   "version": "3.11.4"
  }
 },
 "nbformat": 4,
 "nbformat_minor": 2
}
