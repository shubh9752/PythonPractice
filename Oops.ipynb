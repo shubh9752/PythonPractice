{
 "cells": [
  {
   "cell_type": "code",
   "execution_count": 1,
   "metadata": {},
   "outputs": [
    {
     "name": "stdout",
     "output_type": "stream",
     "text": [
      "20.0\n"
     ]
    }
   ],
   "source": [
    "class Student:\n",
    "    def __init__(self,name,marks):\n",
    "        self.name=name\n",
    "        self.mark1=marks[0]\n",
    "        self.mark2=marks[1]\n",
    "        self.mark3=marks[2]\n",
    "    def average(self):\n",
    "        sum=self.mark1+self.mark2+self.mark3\n",
    "        return  (sum/3)\n",
    "        \n",
    "s1=Student(\"shubh\",[10,20,30])\n",
    "print(s1.average())"
   ]
  },
  {
   "cell_type": "code",
   "execution_count": 30,
   "metadata": {},
   "outputs": [
    {
     "name": "stdout",
     "output_type": "stream",
     "text": [
      "amount debit 400 100\n"
     ]
    },
    {
     "data": {
      "text/plain": [
       "100"
      ]
     },
     "execution_count": 30,
     "metadata": {},
     "output_type": "execute_result"
    }
   ],
   "source": [
    "class Account:\n",
    "    def __init__(self,balance,acc_num):\n",
    "        self.balance=balance\n",
    "        self.acc_num=acc_num\n",
    "    def credit(self,amount):\n",
    "        if amount<=0:\n",
    "            return \"amount is zero\"\n",
    "        self.balance += amount\n",
    "    def debit(self,amount):\n",
    "        # if amount>self.balance:\n",
    "        #     print(\"not sufficient balance\")\n",
    "        # else:\n",
    "        if (amount>self.balance):\n",
    "            return (\"not sufficient balance\")\n",
    "        self.balance -=amount\n",
    "        \n",
    "        print(\"amount debit\",amount,self.balance)\n",
    "    def chackBalance(self):\n",
    "        return self.balance\n",
    "        \n",
    "customer1=Account(500,12121212)\n",
    "customer1.debit(400)\n",
    "customer1.chackBalance()\n"
   ]
  }
 ],
 "metadata": {
  "kernelspec": {
   "display_name": "Python 3",
   "language": "python",
   "name": "python3"
  },
  "language_info": {
   "codemirror_mode": {
    "name": "ipython",
    "version": 3
   },
   "file_extension": ".py",
   "mimetype": "text/x-python",
   "name": "python",
   "nbconvert_exporter": "python",
   "pygments_lexer": "ipython3",
   "version": "3.11.4"
  }
 },
 "nbformat": 4,
 "nbformat_minor": 2
}
