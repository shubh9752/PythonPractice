{
 "cells": [
  {
   "cell_type": "markdown",
   "metadata": {},
   "source": [
    "Write a program to print the digits of a number .\n",
    "\n",
    "Input:-\n",
    "\n",
    "N - 153 .\n",
    "\n",
    "output:-\n",
    "\n",
    "3\n",
    "\n",
    "5\n",
    "\n",
    "1\n",
    "\n"
   ]
  },
  {
   "cell_type": "code",
   "execution_count": 2,
   "metadata": {},
   "outputs": [
    {
     "name": "stdout",
     "output_type": "stream",
     "text": [
      "3\n",
      "2\n",
      "1\n",
      "321\n"
     ]
    }
   ],
   "source": [
    "n=int(input(\"enter number\"));\n",
    "temp=n;\n",
    "reverse=0;\n",
    "while (temp>0):\n",
    "    a=temp%10;\n",
    "    reverse=reverse*10+temp%10;\n",
    "    temp=temp//10;\n",
    "    print(a)\n",
    "print(reverse)"
   ]
  },
  {
   "cell_type": "markdown",
   "metadata": {},
   "source": [
    "Write a program using only while loops to print all the even numbers from 1 to n\n",
    "\n",
    "Input\n",
    "\n",
    "if n = 10\n",
    "\n",
    "Output\n",
    "\n",
    "2\n",
    "\n",
    "4\n",
    "\n",
    "6\n",
    "\n",
    "8\n",
    "\n",
    "10"
   ]
  },
  {
   "cell_type": "code",
   "execution_count": 2,
   "metadata": {},
   "outputs": [
    {
     "name": "stdout",
     "output_type": "stream",
     "text": [
      "1\n",
      "3\n",
      "5\n",
      "7\n",
      "9\n"
     ]
    }
   ],
   "source": [
    "num=int(input(\"enter number\"))\n",
    "even=0\n",
    "while even<num:\n",
    "    if(even%2==0):\n",
    "        \n",
    "        print (even)\n",
    "        even+=1\n",
    "    else:\n",
    "        even+=1"
   ]
  },
  {
   "cell_type": "markdown",
   "metadata": {},
   "source": [
    "Print the following series using while loop\n",
    "\n",
    "1 4 9 16 25 36 …. n\n",
    "\n",
    "Input :-\n",
    "\n",
    "n = 49\n",
    "\n",
    "Output :-\n",
    "\n",
    "1\n",
    "\n",
    "4\n",
    "\n",
    "9\n",
    "\n",
    "16\n",
    "\n",
    "25\n",
    "\n",
    "36\n",
    "\n",
    "49"
   ]
  },
  {
   "cell_type": "code",
   "execution_count": 2,
   "metadata": {},
   "outputs": [
    {
     "name": "stdout",
     "output_type": "stream",
     "text": [
      "1\n",
      "4\n",
      "9\n"
     ]
    }
   ],
   "source": [
    "num=int(input(\"enter num\"))\n",
    "i=1;\n",
    "\n",
    "while i*i<num:\n",
    "    \n",
    "    \n",
    "    \n",
    "    print(i*i)\n",
    "    i=i+1;"
   ]
  },
  {
   "cell_type": "markdown",
   "metadata": {},
   "source": [
    "By using while loop and continue statement\n",
    "\n",
    "Print all number from 1 to n but then it should not be divisible by 5\n",
    "\n",
    "\n",
    "\n",
    "Example:-\n",
    "\n",
    "Input:-\n",
    "\n",
    "n=7\n",
    "\n",
    "output:-\n",
    "\n",
    "1\n",
    "\n",
    "2\n",
    "\n",
    "3\n",
    "\n",
    "4\n",
    "\n",
    "6\n",
    "\n",
    "7"
   ]
  },
  {
   "cell_type": "code",
   "execution_count": 1,
   "metadata": {},
   "outputs": [
    {
     "name": "stdout",
     "output_type": "stream",
     "text": [
      "1 2 3 4 6 7 8 9 11 12 13 14 "
     ]
    }
   ],
   "source": [
    "n=int(input(\"enter num\"))\n",
    "i=1\n",
    "while (i<=n):\n",
    "    if(i%5==0):\n",
    "        i=i+1\n",
    "        continue\n",
    "    print(i,end=\" \")\n",
    "    i=i+1"
   ]
  },
  {
   "cell_type": "markdown",
   "metadata": {},
   "source": [
    "Write a program to print whether a given number is an Armstrong number or not..\n",
    "\n",
    "(Armstrong number is a number in which all the sum of cubes of digits is equal to the number\n",
    "\n",
    "Example:-\n",
    "\n",
    "Input\n",
    "\n",
    "n=153\n",
    "\n",
    "Output\n",
    "\n",
    "true\n",
    "\n",
    "\n",
    "\n",
    "Logic - 153 is an Armstrong number because 1^3 + 5^3 + 3^3 = 1 +125 + 27 = 153 which is equal to the original number )\n",
    "\n",
    "\n",
    "\n",
    "Input\n",
    "\n",
    "123\n",
    "\n",
    "Output\n",
    "\n",
    "false\n",
    "\n"
   ]
  },
  {
   "cell_type": "code",
   "execution_count": 5,
   "metadata": {},
   "outputs": [
    {
     "name": "stdout",
     "output_type": "stream",
     "text": [
      "False\n"
     ]
    }
   ],
   "source": [
    "num=int(input(\"enter number\"))\n",
    "temp=num;\n",
    "i=0\n",
    "while (temp>0):\n",
    "   a=temp%10;\n",
    "   i=i+a**3;\n",
    "   temp=temp//10\n",
    "if(i==num):\n",
    "    print(True)\n",
    "else:\n",
    "    print(False)\n",
    "    \n",
    "    "
   ]
  },
  {
   "cell_type": "code",
   "execution_count": null,
   "metadata": {},
   "outputs": [],
   "source": []
  }
 ],
 "metadata": {
  "kernelspec": {
   "display_name": "Python 3",
   "language": "python",
   "name": "python3"
  },
  "language_info": {
   "codemirror_mode": {
    "name": "ipython",
    "version": 3
   },
   "file_extension": ".py",
   "mimetype": "text/x-python",
   "name": "python",
   "nbconvert_exporter": "python",
   "pygments_lexer": "ipython3",
   "version": "3.11.4"
  }
 },
 "nbformat": 4,
 "nbformat_minor": 2
}
