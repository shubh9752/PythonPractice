{
 "cells": [
  {
   "cell_type": "code",
   "execution_count": null,
   "metadata": {},
   "outputs": [],
   "source": []
  },
  {
   "cell_type": "markdown",
   "metadata": {},
   "source": [
    "string=its a sequence of uni code or sequence of chars "
   ]
  },
  {
   "cell_type": "code",
   "execution_count": 16,
   "metadata": {},
   "outputs": [
    {
     "name": "stdout",
     "output_type": "stream",
     "text": [
      "ooleh\n",
      "['heloo', 'my', 'name', 'is', 'shubham']\n"
     ]
    },
    {
     "data": {
      "text/plain": [
       "'mahbuhs si eman ym ooleh'"
      ]
     },
     "execution_count": 16,
     "metadata": {},
     "output_type": "execute_result"
    }
   ],
   "source": [
    "n=\"shbham is my name\"\n",
    "n\n",
    "n[1]\n",
    "n[-1]\n",
    "s='''heloo my name is shubham'''\n",
    "\n",
    "t=s.split(\" \")\n",
    "print(t[0][::-1])\n",
    "print(t)\n",
    "s[::-1]\n"
   ]
  },
  {
   "cell_type": "code",
   "execution_count": 1,
   "metadata": {},
   "outputs": [
    {
     "name": "stdout",
     "output_type": "stream",
     "text": [
      "6\n"
     ]
    }
   ],
   "source": [
    "sentences = [\"alice and bob love leetcode\", \"i think so too\", \"this is great thanks very much\"]\n",
    "def maxWords(li):\n",
    "    maxi=0\n",
    "    for i in  range(len(li)):\n",
    "        count=len(li[i].split())\n",
    "        if count>maxi:\n",
    "            maxi=count\n",
    "    return maxi\n",
    "print(maxWords(sentences))\n",
    "       \n",
    "            "
   ]
  }
 ],
 "metadata": {
  "kernelspec": {
   "display_name": "Python 3",
   "language": "python",
   "name": "python3"
  },
  "language_info": {
   "codemirror_mode": {
    "name": "ipython",
    "version": 3
   },
   "file_extension": ".py",
   "mimetype": "text/x-python",
   "name": "python",
   "nbconvert_exporter": "python",
   "pygments_lexer": "ipython3",
   "version": "3.11.4"
  },
  "orig_nbformat": 4
 },
 "nbformat": 4,
 "nbformat_minor": 2
}
