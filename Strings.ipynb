{
 "cells": [
  {
   "cell_type": "code",
   "execution_count": null,
   "metadata": {},
   "outputs": [],
   "source": []
  },
  {
   "cell_type": "markdown",
   "metadata": {},
   "source": [
    "string=its a sequence of uni code or sequence of chars "
   ]
  },
  {
   "cell_type": "code",
   "execution_count": 16,
   "metadata": {},
   "outputs": [
    {
     "name": "stdout",
     "output_type": "stream",
     "text": [
      "ooleh\n",
      "['heloo', 'my', 'name', 'is', 'shubham']\n"
     ]
    },
    {
     "data": {
      "text/plain": [
       "'mahbuhs si eman ym ooleh'"
      ]
     },
     "execution_count": 16,
     "metadata": {},
     "output_type": "execute_result"
    }
   ],
   "source": [
    "n=\"shbham is my name\"\n",
    "n\n",
    "n[1]\n",
    "n[-1]\n",
    "s='''heloo my name is shubham'''\n",
    "\n",
    "t=s.split(\" \")\n",
    "print(t[0][::-1])\n",
    "print(t)\n",
    "s[::-1]\n"
   ]
  },
  {
   "cell_type": "code",
   "execution_count": 1,
   "metadata": {},
   "outputs": [
    {
     "name": "stdout",
     "output_type": "stream",
     "text": [
      "6\n"
     ]
    }
   ],
   "source": [
    "sentences = [\"alice and bob love leetcode\", \"i think so too\", \"this is great thanks very much\"]\n",
    "def maxWords(li):\n",
    "    maxi=0\n",
    "    for i in  range(len(li)):\n",
    "        count=len(li[i].split())\n",
    "        if count>maxi:\n",
    "            maxi=count\n",
    "    return maxi\n",
    "print(maxWords(sentences))\n",
    "       \n",
    "            "
   ]
  },
  {
   "cell_type": "code",
   "execution_count": 5,
   "metadata": {},
   "outputs": [
    {
     "name": "stdout",
     "output_type": "stream",
     "text": [
      "1\n",
      "h\n",
      "2\n",
      "he\n",
      "3\n",
      "hel\n",
      "4\n",
      "hell\n",
      "5\n",
      "hello\n",
      "2\n",
      "e\n",
      "3\n",
      "el\n",
      "4\n",
      "ell\n",
      "5\n",
      "ello\n",
      "3\n",
      "l\n",
      "4\n",
      "ll\n",
      "5\n",
      "llo\n",
      "4\n",
      "l\n",
      "5\n",
      "lo\n",
      "5\n",
      "o\n",
      "None\n"
     ]
    }
   ],
   "source": [
    "# print sub strings\n",
    "def subStrings(s):\n",
    "    \n",
    "    for i in range(0,len(s)):\n",
    "        str=s[i]\n",
    "        for j in range(i+1,len(s)+1):\n",
    "            \n",
    "            print(s[i:j])\n",
    "a=\"hello\"\n",
    "print(subStrings(a))\n",
    "        \n",
    "        \n",
    "        "
   ]
  },
  {
   "cell_type": "code",
   "execution_count": 11,
   "metadata": {},
   "outputs": [
    {
     "name": "stdout",
     "output_type": "stream",
     "text": [
      "False\n"
     ]
    }
   ],
   "source": [
    "#palindrome\n",
    "def checkPalindrom(s):\n",
    "    l=0\n",
    "    r=len(s)-1\n",
    "    while l<r:\n",
    "        if s[l] !=s[r]:\n",
    "            return False\n",
    "        l += 1\n",
    "        r -= 1\n",
    "    return True\n",
    "s=\"grhhhhrrg\"\n",
    "print(checkPalindrom(s))\n",
    "        "
   ]
  },
  {
   "cell_type": "code",
   "execution_count": 15,
   "metadata": {},
   "outputs": [
    {
     "name": "stdout",
     "output_type": "stream",
     "text": [
      "False\n"
     ]
    }
   ],
   "source": [
    "#can be palindrome\n",
    "def canPal(s):\n",
    "    temp={}\n",
    "    for i in s:\n",
    "        if i in temp:\n",
    "            temp[i]+=1\n",
    "        else:\n",
    "            temp[i]=1\n",
    "    odd=0\n",
    "    for i in temp.values():\n",
    "        if i%2 !=0:\n",
    "            odd += 1\n",
    "    if odd>1:\n",
    "        return False\n",
    "    return True \n",
    "s=\"grhhhhhrrg\"  \n",
    "print(canPal(s))     "
   ]
  },
  {
   "cell_type": "code",
   "execution_count": 16,
   "metadata": {},
   "outputs": [
    {
     "name": "stdout",
     "output_type": "stream",
     "text": [
      "Ninjas Coding to Welcome \n"
     ]
    }
   ],
   "source": [
    "#reverse string wordwise\n",
    "def reverseString(a):\n",
    "    b=a.split()\n",
    "    t=\"\"\n",
    "    for i in range(len(b)-1,-1,-1):\n",
    "        t=t+b[i]+\" \"\n",
    "    return t\n",
    "a=\"Welcome to Coding Ninjas\"\n",
    "print(reverseString(a))"
   ]
  }
 ],
 "metadata": {
  "kernelspec": {
   "display_name": "Python 3",
   "language": "python",
   "name": "python3"
  },
  "language_info": {
   "codemirror_mode": {
    "name": "ipython",
    "version": 3
   },
   "file_extension": ".py",
   "mimetype": "text/x-python",
   "name": "python",
   "nbconvert_exporter": "python",
   "pygments_lexer": "ipython3",
   "version": "3.11.4"
  },
  "orig_nbformat": 4
 },
 "nbformat": 4,
 "nbformat_minor": 2
}
