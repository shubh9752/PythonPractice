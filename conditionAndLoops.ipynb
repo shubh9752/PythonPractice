{
 "cells": [
  {
   "cell_type": "markdown",
   "metadata": {},
   "source": [
    "\n",
    "\n",
    "\n",
    "Relational Operators"
   ]
  },
  {
   "cell_type": "code",
   "execution_count": 45,
   "metadata": {},
   "outputs": [
    {
     "name": "stdout",
     "output_type": "stream",
     "text": [
      "True\n",
      "True\n",
      "False\n",
      "True\n",
      "False\n",
      "False\n",
      "True\n"
     ]
    }
   ],
   "source": [
    "a=10\n",
    "b=20\n",
    "c=\"30\"\n",
    "d=20.4\n",
    "# print(a<c)#give you error '<' not supported between instances of 'int' and 'str'\n",
    "print(a<d)\n",
    "print(a<b)\n",
    "print(a>b)\n",
    "print(a<=b)\n",
    "print(a>=b)\n",
    "print(a==b)\n",
    "print(a!=b)"
   ]
  },
  {
   "cell_type": "markdown",
   "metadata": {},
   "source": [
    "If else"
   ]
  },
  {
   "cell_type": "code",
   "execution_count": 46,
   "metadata": {},
   "outputs": [
    {
     "name": "stdout",
     "output_type": "stream",
     "text": [
      "inside if\n"
     ]
    }
   ],
   "source": [
    "a #0,empty string, or empty arr,set,dictionor will be considred as an false\n",
    "if a:\n",
    "    print(\"inside if\")\n",
    "else :\n",
    "    print(\"in else\")"
   ]
  },
  {
   "cell_type": "markdown",
   "metadata": {},
   "source": [
    "check number even or odd"
   ]
  },
  {
   "cell_type": "code",
   "execution_count": 47,
   "metadata": {},
   "outputs": [
    {
     "name": "stdout",
     "output_type": "stream",
     "text": [
      "even\n"
     ]
    }
   ],
   "source": [
    "a=int(input(\"please enter a number\"))\n",
    "if a%2==0:\n",
    "    print (\"even\")\n",
    "else:\n",
    "    print('odd')"
   ]
  },
  {
   "cell_type": "markdown",
   "metadata": {},
   "source": [
    "While loop"
   ]
  },
  {
   "cell_type": "code",
   "execution_count": 48,
   "metadata": {},
   "outputs": [
    {
     "name": "stdout",
     "output_type": "stream",
     "text": [
      "0\n",
      "1\n",
      "2\n",
      "3\n",
      "4\n",
      "5\n",
      "6\n",
      "7\n",
      "8\n",
      "9\n"
     ]
    }
   ],
   "source": [
    "i=0\n",
    "while i<10:\n",
    "    print(i)\n",
    "    i=i+1\n",
    "\n"
   ]
  },
  {
   "cell_type": "markdown",
   "metadata": {},
   "source": [
    "Check whether a num ber is prime or not"
   ]
  },
  {
   "cell_type": "code",
   "execution_count": 49,
   "metadata": {},
   "outputs": [
    {
     "name": "stdout",
     "output_type": "stream",
     "text": [
      "10  not prime\n"
     ]
    }
   ],
   "source": [
    "a=int(input(\"enter a number\"))\n",
    "count=2\n",
    "flag=False\n",
    "while count<a:\n",
    "    if  a%count==0:\n",
    "        flag=True\n",
    "    count=count+1\n",
    "if flag:\n",
    "    print(a, \" not prime\")\n",
    "else:\n",
    "    print(a,\"is prime\")\n",
    "        \n",
    "    \n"
   ]
  },
  {
   "cell_type": "markdown",
   "metadata": {},
   "source": [
    "PRINT ALL PRIMES UPTO n number"
   ]
  },
  {
   "cell_type": "code",
   "execution_count": 1,
   "metadata": {},
   "outputs": [
    {
     "name": "stdout",
     "output_type": "stream",
     "text": [
      "2\n",
      "3\n",
      "5\n",
      "7\n"
     ]
    }
   ],
   "source": [
    "a=a=int(input(\"enter a number\"))\n",
    "count=2\n",
    "while count<=a:\n",
    "    inner_count=2\n",
    "    flag=False\n",
    "    while inner_count<count:\n",
    "        if count%inner_count==0:\n",
    "            flag=True\n",
    "        inner_count=inner_count+1\n",
    "    if not(flag):\n",
    "        print(count)\n",
    "    count=count+1"
   ]
  }
 ],
 "metadata": {
  "kernelspec": {
   "display_name": "Python 3",
   "language": "python",
   "name": "python3"
  },
  "language_info": {
   "codemirror_mode": {
    "name": "ipython",
    "version": 3
   },
   "file_extension": ".py",
   "mimetype": "text/x-python",
   "name": "python",
   "nbconvert_exporter": "python",
   "pygments_lexer": "ipython3",
   "version": "3.11.4"
  },
  "orig_nbformat": 4
 },
 "nbformat": 4,
 "nbformat_minor": 2
}
