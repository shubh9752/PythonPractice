{
 "cells": [
  {
   "cell_type": "code",
   "execution_count": 5,
   "metadata": {},
   "outputs": [
    {
     "name": "stdout",
     "output_type": "stream",
     "text": [
      "4\n"
     ]
    }
   ],
   "source": [
    "def countPrimes(n):\n",
    "    if n<2:\n",
    "        return -1\n",
    "    l=n\n",
    "    li1=[True]*l\n",
    "    li1[0],li1[1]=False,False\n",
    "    count=0\n",
    "    for i in range(2,int(l**0.5)+1):\n",
    "        if li1[i]:\n",
    "            li1[i*i:l:i]=[False] * len(li1[i*i:l:i])\n",
    "            count+=1\n",
    "    return sum(li1)\n",
    "\n",
    "print(countPrimes(10))"
   ]
  },
  {
   "cell_type": "code",
   "execution_count": 8,
   "metadata": {},
   "outputs": [
    {
     "name": "stdout",
     "output_type": "stream",
     "text": [
      "3\n"
     ]
    }
   ],
   "source": [
    "# find jwels and stones\n",
    "def finJandS(jwels, stones):\n",
    "\n",
    "    jwels=set(jwels)\n",
    "    count=0\n",
    "    for s in stones:\n",
    "        if s in jwels:\n",
    "            count+=1\n",
    "    return count\n",
    "print(finJandS(\"aA\", \"aAAbbbb\"))\n",
    "    "
   ]
  },
  {
   "cell_type": "code",
   "execution_count": 9,
   "metadata": {},
   "outputs": [
    {
     "name": "stdout",
     "output_type": "stream",
     "text": [
      "True\n",
      "True\n",
      "False\n"
     ]
    }
   ],
   "source": [
    "def subArisTrue(li):\n",
    "    li1=set()\n",
    "    sum=0\n",
    "    for i in li:\n",
    "        sum =sum+i\n",
    "        if sum==0 or sum in li1:\n",
    "            return True\n",
    "        li1.add(sum)\n",
    "    return False\n",
    "        \n",
    "print(subArisTrue([5, 4, 2, -3, 1, 6]))  # Output: True\n",
    "print(subArisTrue([5, 4, 2, 0, 1, 6]))   # Output: True\n",
    "print(subArisTrue([5, 4, 2, 2, 1, 6]))             "
   ]
  },
  {
   "cell_type": "code",
   "execution_count": 14,
   "metadata": {},
   "outputs": [
    {
     "name": "stdout",
     "output_type": "stream",
     "text": [
      "1\n"
     ]
    }
   ],
   "source": [
    "def minSwaps(nums):\n",
    "    n = len(nums)\n",
    "    swaps = 0\n",
    "    i = 0\n",
    "    while i < n:\n",
    "        if nums[i] != i + 1 and 1 <= nums[i] <= n:\n",
    "            correct_index = nums[i] - 1\n",
    "            nums[i], nums[correct_index] = nums[correct_index], nums[i]\n",
    "            swaps += 1\n",
    "        else:\n",
    "            i += 1\n",
    "    return swaps\n",
    "\n",
    "nums = [10, 19, 6, 3, 5]\n",
    "print(minSwaps(nums))\n"
   ]
  }
 ],
 "metadata": {
  "kernelspec": {
   "display_name": "Python 3",
   "language": "python",
   "name": "python3"
  },
  "language_info": {
   "codemirror_mode": {
    "name": "ipython",
    "version": 3
   },
   "file_extension": ".py",
   "mimetype": "text/x-python",
   "name": "python",
   "nbconvert_exporter": "python",
   "pygments_lexer": "ipython3",
   "version": "3.11.4"
  }
 },
 "nbformat": 4,
 "nbformat_minor": 2
}
