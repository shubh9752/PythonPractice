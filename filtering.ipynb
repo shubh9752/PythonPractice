{
 "cells": [
  {
   "cell_type": "code",
   "execution_count": 3,
   "metadata": {},
   "outputs": [
    {
     "name": "stdout",
     "output_type": "stream",
     "text": [
      "udaan 8.0\n",
      "jack and jill 7.0\n"
     ]
    }
   ],
   "source": [
    "movies=[(\"udaan\",8.0),(\"jack and jill\",7.0),(\"hira\",5.0)]\n",
    "\n",
    "for movieEle in movies:\n",
    "    if movieEle[1]>5:\n",
    "        print(movieEle[0],movieEle[1])"
   ]
  },
  {
   "cell_type": "markdown",
   "metadata": {},
   "source": [
    "count words in sentences"
   ]
  },
  {
   "cell_type": "code",
   "execution_count": 6,
   "metadata": {},
   "outputs": [
    {
     "name": "stdout",
     "output_type": "stream",
     "text": [
      "{'hello': 2, 'bro': 2, 'how': 1, 'are': 2, 'you': 2, 'fine': 1}\n"
     ]
    }
   ],
   "source": [
    "sentence=\"hello bro how are you are you fine bro hello\"\n",
    "dictionory={}\n",
    "\n",
    "for word in sentence.split(\" \"):\n",
    "    if word not in dictionory:\n",
    "        dictionory[word]=1\n",
    "    else:\n",
    "        dictionory[word]=dictionory[word]+1\n",
    "print(dictionory)"
   ]
  }
 ],
 "metadata": {
  "kernelspec": {
   "display_name": "Python 3",
   "language": "python",
   "name": "python3"
  },
  "language_info": {
   "codemirror_mode": {
    "name": "ipython",
    "version": 3
   },
   "file_extension": ".py",
   "mimetype": "text/x-python",
   "name": "python",
   "nbconvert_exporter": "python",
   "pygments_lexer": "ipython3",
   "version": "3.11.4"
  },
  "orig_nbformat": 4
 },
 "nbformat": 4,
 "nbformat_minor": 2
}
