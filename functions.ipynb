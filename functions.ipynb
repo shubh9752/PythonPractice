{
 "cells": [
  {
   "cell_type": "code",
   "execution_count": null,
   "metadata": {},
   "outputs": [],
   "source": []
  },
  {
   "cell_type": "markdown",
   "metadata": {},
   "source": [
    "Funcions\n"
   ]
  },
  {
   "cell_type": "markdown",
   "metadata": {},
   "source": [
    "create a function to check wheather its is prime or not \n"
   ]
  },
  {
   "cell_type": "code",
   "execution_count": 20,
   "metadata": {},
   "outputs": [
    {
     "name": "stdout",
     "output_type": "stream",
     "text": [
      "prime\n"
     ]
    }
   ],
   "source": [
    "import math\n",
    "def primalCheck(n):\n",
    "    for i in range(2,math.floor(math.sqrt(n))):\n",
    "        if n%i == 0:\n",
    "            print(\"not prime\")\n",
    "            break\n",
    "    else:\n",
    "        print(\"prime\")\n",
    "        \n",
    "        \n",
    "n=int(input())\n",
    "primalCheck(n)"
   ]
  },
  {
   "cell_type": "markdown",
   "metadata": {},
   "source": [
    "\n",
    "create a function to check prime number from 2 to n"
   ]
  },
  {
   "cell_type": "code",
   "execution_count": 27,
   "metadata": {},
   "outputs": [
    {
     "name": "stdout",
     "output_type": "stream",
     "text": [
      "2 3 5 7 None\n"
     ]
    }
   ],
   "source": [
    "def checkPrimal2ton(n):\n",
    "    for i in range(2,n):\n",
    "        for j in range(2,i):\n",
    "            if i%j==0:\n",
    "                break\n",
    "        else:\n",
    "            print(i,end=\" \")\n",
    "            \n",
    "n=int(input())\n",
    "t=checkPrimal2ton(n)\n",
    "print(t)\n"
   ]
  },
  {
   "cell_type": "markdown",
   "metadata": {},
   "source": [
    "you cant change global inside local scope"
   ]
  },
  {
   "cell_type": "code",
   "execution_count": 28,
   "metadata": {},
   "outputs": [
    {
     "name": "stdout",
     "output_type": "stream",
     "text": [
      "20\n",
      "10\n",
      "value of global variable after calling function 20\n"
     ]
    }
   ],
   "source": [
    "a4=20\n",
    "def f4():\n",
    "    a4=10\n",
    "    print(a4)\n",
    "print(a4)\n",
    "f4()\n",
    "print(\"value of global variable after calling function\",a4)#global variables are accessible in the whole program**Global and local scope****\n",
    "\n"
   ]
  },
  {
   "cell_type": "markdown",
   "metadata": {},
   "source": [
    "To use a global scope inside local scope or function scope you can use global keyword\n"
   ]
  },
  {
   "cell_type": "code",
   "execution_count": 29,
   "metadata": {},
   "outputs": [
    {
     "name": "stdout",
     "output_type": "stream",
     "text": [
      "20\n",
      "10\n",
      "value of global variable after calling function 10\n"
     ]
    }
   ],
   "source": [
    "a4=20\n",
    "def f4():\n",
    "    global a4\n",
    "    a4=10\n",
    "    print(a4)\n",
    "print(a4)\n",
    "f4()\n",
    "print(\"value of global variable after calling function\",a4)"
   ]
  },
  {
   "cell_type": "markdown",
   "metadata": {},
   "source": [
    "DEFAULT ARGUMENTS"
   ]
  },
  {
   "cell_type": "code",
   "execution_count": 1,
   "metadata": {},
   "outputs": [
    {
     "ename": "TypeError",
     "evalue": "f1() takes 1 positional argument but 2 were given",
     "output_type": "error",
     "traceback": [
      "\u001b[1;31m---------------------------------------------------------------------------\u001b[0m",
      "\u001b[1;31mTypeError\u001b[0m                                 Traceback (most recent call last)",
      "\u001b[1;32mc:\\Users\\skv\\OneDrive\\Desktop\\python\\functions.ipynb Cell 12\u001b[0m line \u001b[0;36m1\n\u001b[0;32m      <a href='vscode-notebook-cell:/c%3A/Users/skv/OneDrive/Desktop/python/functions.ipynb#X14sZmlsZQ%3D%3D?line=4'>5</a>\u001b[0m     \u001b[39mprint\u001b[39m(b)\n\u001b[0;32m      <a href='vscode-notebook-cell:/c%3A/Users/skv/OneDrive/Desktop/python/functions.ipynb#X14sZmlsZQ%3D%3D?line=5'>6</a>\u001b[0m \u001b[39m#f1()#case 1 when you dont give an any argument but passed a parameter in function initalization\u001b[39;00m\n\u001b[0;32m      <a href='vscode-notebook-cell:/c%3A/Users/skv/OneDrive/Desktop/python/functions.ipynb#X14sZmlsZQ%3D%3D?line=6'>7</a>\u001b[0m \u001b[39m#it will throw an typeerror that requires positional argument \u001b[39;00m\n\u001b[0;32m      <a href='vscode-notebook-cell:/c%3A/Users/skv/OneDrive/Desktop/python/functions.ipynb#X14sZmlsZQ%3D%3D?line=7'>8</a>\u001b[0m \n\u001b[0;32m      <a href='vscode-notebook-cell:/c%3A/Users/skv/OneDrive/Desktop/python/functions.ipynb#X14sZmlsZQ%3D%3D?line=8'>9</a>\u001b[0m \u001b[39m#casr 2\u001b[39;00m\n\u001b[1;32m---> <a href='vscode-notebook-cell:/c%3A/Users/skv/OneDrive/Desktop/python/functions.ipynb#X14sZmlsZQ%3D%3D?line=9'>10</a>\u001b[0m f1(\u001b[39m3\u001b[39;49m,\u001b[39m5\u001b[39;49m)   \u001b[39m# case 2 when you dont give an extra  argument but passed one  parameter in function initalization\u001b[39;00m\n\u001b[0;32m     <a href='vscode-notebook-cell:/c%3A/Users/skv/OneDrive/Desktop/python/functions.ipynb#X14sZmlsZQ%3D%3D?line=10'>11</a>\u001b[0m \u001b[39m#it will throw an typeerror that requires one argument  but u give 2\u001b[39;00m\n",
      "\u001b[1;31mTypeError\u001b[0m: f1() takes 1 positional argument but 2 were given"
     ]
    }
   ],
   "source": [
    "b=10\n",
    "def f1(b):\n",
    "   \n",
    "    b=2\n",
    "    print(b)\n",
    "#f1()#case 1 when you dont give an any argument but passed a parameter in function initalization\n",
    "#it will throw an typeerror that requires positional argument \n",
    "\n",
    "#casr 2\n",
    "# f1(3,5)   # case 2 when you dont give an extra  argument but passed one  parameter in function initalization\n",
    "#it will throw an typeerror that requires one argument  but u give 2\n"
   ]
  },
  {
   "cell_type": "code",
   "execution_count": 38,
   "metadata": {},
   "outputs": [
    {
     "name": "stdout",
     "output_type": "stream",
     "text": [
      "14\n",
      "24\n"
     ]
    }
   ],
   "source": [
    "def sum(a,b=0,c=10):\n",
    "    return a+b+c\n",
    "# def sum(a,b,c,d=0):  funtion overloading dont work in python \n",
    "#     return (a + b) +c+d #Note:** The default value of the parameters is used when they are not passed\n",
    "sum(10,5,9)\n",
    "# sum(10,3,6,2)\n",
    "\n",
    "sum1=sum(10,4)\n",
    "print(sum(4))\n",
    "print(sum1)"
   ]
  },
  {
   "cell_type": "markdown",
   "metadata": {},
   "source": [
    "you can define a value and reaarrange the parameters of function during calling a function"
   ]
  },
  {
   "cell_type": "code",
   "execution_count": 44,
   "metadata": {},
   "outputs": [
    {
     "name": "stdout",
     "output_type": "stream",
     "text": [
      "a  30   b  1   c  5\n",
      "a  6   b  8   c  30\n"
     ]
    }
   ],
   "source": [
    "def sum2(a,b,c=10):\n",
    "    print(\"a \",a,\"  b \",b,\"  c \",c)\n",
    "sum2(30,1,5)\n",
    "sum2(6,c=30,b=8)\n",
    "    "
   ]
  },
  {
   "cell_type": "code",
   "execution_count": null,
   "metadata": {},
   "outputs": [],
   "source": []
  }
 ],
 "metadata": {
  "kernelspec": {
   "display_name": "Python 3",
   "language": "python",
   "name": "python3"
  },
  "language_info": {
   "codemirror_mode": {
    "name": "ipython",
    "version": 3
   },
   "file_extension": ".py",
   "mimetype": "text/x-python",
   "name": "python",
   "nbconvert_exporter": "python",
   "pygments_lexer": "ipython3",
   "version": "3.11.4"
  },
  "orig_nbformat": 4
 },
 "nbformat": 4,
 "nbformat_minor": 2
}
