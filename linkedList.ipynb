{
 "cells": [
  {
   "cell_type": "code",
   "execution_count": 14,
   "metadata": {},
   "outputs": [
    {
     "name": "stdout",
     "output_type": "stream",
     "text": [
      "50  40  30  20  10  "
     ]
    }
   ],
   "source": [
    "# creating linked list class\n",
    "\n",
    "#insertion of a node in linked list\n",
    "# class Node:\n",
    "#     def __init__(self,data):\n",
    "#         self.data=data\n",
    "#         self.next=None\n",
    "# class linkedList:\n",
    "#     def __init__(self):\n",
    "#        self.head=None\n",
    "#     def insert(self,newdata):\n",
    "#        newdata=Node(newdata)\n",
    "#        newdata.next=self.head\n",
    "#        self.head=newdata \n",
    "#     def displayll(self):\n",
    "#         temp=self.head\n",
    "#         while temp:\n",
    "#             print(str(temp.data)+\" \",end=\" \")\n",
    "#             temp = temp.next\n",
    "            \n",
    "# ll1=linkedList()\n",
    "# ll1.insert(10)\n",
    "# ll1.insert(20)\n",
    "# ll1.insert(30)\n",
    "# ll1.insert(40)\n",
    "# ll1.insert(50)\n",
    "# ll1.displayll()\n"
   ]
  },
  {
   "cell_type": "code",
   "execution_count": 22,
   "metadata": {},
   "outputs": [
    {
     "name": "stdout",
     "output_type": "stream",
     "text": [
      "5    39 37 32 34 6 \n"
     ]
    }
   ],
   "source": [
    "# class Node:\n",
    "#     def  __init__(self, value):\n",
    "#         self.data=value\n",
    "#         self.next=None\n",
    "\n",
    "# class Linkedlist:\n",
    "#     def __init__(self):\n",
    "#         self.head=None\n",
    "#         #count of nodes\n",
    "#         self.nodes=0\n",
    "#     def __len__(self):\n",
    "#         return self.nodes\n",
    "    \n",
    "    # def insertValue(self,value):\n",
    "    #     new_node=Node(value)\n",
    "    #     #createconnection\n",
    "    #     new_node.next=self.head\n",
    "    #     #head reaashign\n",
    "    #     self.head=new_node\n",
    "        #increament nodes\n",
    "    #     self.nodes += 1\n",
    "    # def __str__(self):\n",
    "    #     curr=self.head\n",
    "    #     res=\" \"\n",
    "    #     while curr!=None:\n",
    "    #         res=res+str(curr.data)+\" \"\n",
    "    #         curr=curr.next\n",
    "    #     return res\n",
    "    # def append(self,value):\n",
    "    #     new_node=Node(value)\n",
    "    #     if self.head==None:\n",
    "    #         self.head=new_node\n",
    "    #         return\n",
    "    #     curr=self.head\n",
    "    #     while curr.next !=None:\n",
    "    #         curr=curr.next\n",
    "    #     curr.next=new_node\n",
    "    #     self.nodes=self.nodes+1\n",
    "        \n",
    "# l1=Linkedlist()\n",
    "# l1.insertValue(34)\n",
    "# l1.insertValue(32)\n",
    "# l1.insertValue(37)\n",
    "# l1.insertValue(39)\n",
    "# l1.append(6)\n",
    "\n",
    "# print(len(l1),\" \",l1)\n"
   ]
  },
  {
   "cell_type": "code",
   "execution_count": 31,
   "metadata": {},
   "outputs": [
    {
     "name": "stdout",
     "output_type": "stream",
     "text": [
      " 32 34 5  3\n"
     ]
    }
   ],
   "source": [
    "class Node:\n",
    "    def __init__(self,value):\n",
    "        self.data=value\n",
    "        self.next=None\n",
    "       \n",
    "class Ll:\n",
    "    def __init__(self):\n",
    "        self.head=None\n",
    "        self.nodes=0\n",
    "    def insertValue(self,value):\n",
    "        newnode=Node(value)\n",
    "        newnode.next=self.head\n",
    "        self.head=newnode\n",
    "        self.nodes=self.nodes+1\n",
    "    def __len__(self):\n",
    "        return self.nodes\n",
    "    def __str__(self):\n",
    "        curr=self.head\n",
    "        if curr==None:\n",
    "            return -1\n",
    "        res=\" \"\n",
    "        while curr != None:\n",
    "            res=res+str(curr.data)+\" \"\n",
    "            curr=curr.next\n",
    "        return res\n",
    "    def append(self,value):\n",
    "        newnode=Node(value)\n",
    "        if  self.head is None:\n",
    "            self.head=newnode\n",
    "            self.nodes =self.nodes+1\n",
    "            return\n",
    "        curr=self.head\n",
    "        while curr.next != None:\n",
    "            curr=curr.next\n",
    "        curr.next=newnode\n",
    "        self.nodes=self.nodes+1\n",
    "l2=Ll()\n",
    "l2.insertValue(34)\n",
    "l2.insertValue(32)\n",
    "l2.append(5)\n",
    "len(l2)\n",
    "print(l2,len(l2))"
   ]
  }
 ],
 "metadata": {
  "kernelspec": {
   "display_name": "Python 3",
   "language": "python",
   "name": "python3"
  },
  "language_info": {
   "codemirror_mode": {
    "name": "ipython",
    "version": 3
   },
   "file_extension": ".py",
   "mimetype": "text/x-python",
   "name": "python",
   "nbconvert_exporter": "python",
   "pygments_lexer": "ipython3",
   "version": "3.11.4"
  }
 },
 "nbformat": 4,
 "nbformat_minor": 2
}
