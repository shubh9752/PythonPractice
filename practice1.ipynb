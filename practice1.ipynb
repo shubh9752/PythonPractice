{
 "cells": [
  {
   "cell_type": "markdown",
   "metadata": {},
   "source": [
    "Create a list of your favorite fruits and print it.\n",
    "Add a new fruit to the list and print the updated list.\n",
    "Remove a fruit from the list and print the updated list.\n",
    "Access and print the third fruit in the list."
   ]
  },
  {
   "cell_type": "code",
   "execution_count": 8,
   "metadata": {},
   "outputs": [
    {
     "name": "stdout",
     "output_type": "stream",
     "text": [
      "['apple', 'cherry', 'watermelon']\n"
     ]
    },
    {
     "data": {
      "text/plain": [
       "'watermelon'"
      ]
     },
     "execution_count": 8,
     "metadata": {},
     "output_type": "execute_result"
    }
   ],
   "source": [
    "fruits=[\"apple\", \"banana\",\"cherry\"]\n",
    "# print(fruits)\n",
    "fruits.append(\"watermelon\")\n",
    "# print(fruits)\n",
    "fruits.remove(\"banana\")\n",
    "print(fruits)\n",
    "fruits[2]"
   ]
  },
  {
   "cell_type": "markdown",
   "metadata": {},
   "source": [
    "Create two lists of numbers and concatenate them. Print the result.\n",
    "Multiply each element in the list by a certain factor.\n",
    "Find the length of a list.\n",
    "Check if a certain element exists in the list."
   ]
  },
  {
   "cell_type": "code",
   "execution_count": 18,
   "metadata": {},
   "outputs": [
    {
     "name": "stdout",
     "output_type": "stream",
     "text": [
      "[10, 20, 40, 50]\n",
      "1690634889408 1690634889408\n",
      "[30, 60, 120, 150]\n"
     ]
    }
   ],
   "source": [
    "li=[10,20,30,40,50]\n",
    "li4=li\n",
    "del li4[2]\n",
    "print(li)\n",
    "li1=[60,20,40,90,100]\n",
    "l3=li+li1\n",
    "print(id(li),id(li4))\n",
    "\n",
    "li2=[x*3 for x in li]\n",
    "print(li2)\n",
    "for i in range(len(li)-1):\n",
    "    li[i]=li[i]*2;\n",
    "    \n",
    "# print(li)"
   ]
  },
  {
   "cell_type": "markdown",
   "metadata": {},
   "source": [
    "Create a list of numbers from 1 to 10 and print only the first 5 elements.\n",
    "Print the last 3 elements of the list.\n",
    "Print every alternate element of the list.\n",
    "Reverse the list and print it."
   ]
  },
  {
   "cell_type": "code",
   "execution_count": 33,
   "metadata": {},
   "outputs": [
    {
     "name": "stdout",
     "output_type": "stream",
     "text": [
      "[100, 90, 80]\n"
     ]
    }
   ],
   "source": [
    "li=[10,20,30,40,50,60,70,80,90,100]\n",
    "print(li[-1:6:-1])"
   ]
  },
  {
   "cell_type": "markdown",
   "metadata": {},
   "source": [
    "List Methods:\n",
    "\n",
    "Sort a list of numbers in ascending order.\n",
    "Count the occurrences of a specific element in the list.\n",
    "Remove duplicates from a list.\n",
    "Clear all elements from a list."
   ]
  },
  {
   "cell_type": "code",
   "execution_count": 41,
   "metadata": {},
   "outputs": [
    {
     "name": "stdout",
     "output_type": "stream",
     "text": [
      "[50, 40, 40, 30, 30, 20, 10]\n",
      "[40, 10, 50, 20, 30]\n"
     ]
    }
   ],
   "source": [
    "li=[10,20,30,50,40,40,30]\n",
    "li.sort(reverse=True)\n",
    "print(li)\n",
    "print(list(set(li)))"
   ]
  }
 ],
 "metadata": {
  "kernelspec": {
   "display_name": "Python 3",
   "language": "python",
   "name": "python3"
  },
  "language_info": {
   "codemirror_mode": {
    "name": "ipython",
    "version": 3
   },
   "file_extension": ".py",
   "mimetype": "text/x-python",
   "name": "python",
   "nbconvert_exporter": "python",
   "pygments_lexer": "ipython3",
   "version": "3.11.4"
  }
 },
 "nbformat": 4,
 "nbformat_minor": 2
}
