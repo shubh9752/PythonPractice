{
 "cells": [
  {
   "cell_type": "code",
   "execution_count": 19,
   "metadata": {},
   "outputs": [
    {
     "name": "stdout",
     "output_type": "stream",
     "text": [
      "[10]\n"
     ]
    }
   ],
   "source": [
    "def findUnique(li):\n",
    "    unique=set(li)\n",
    "    stack=[]\n",
    "    for i in unique:\n",
    "        count=0\n",
    "        for j in li:\n",
    "            \n",
    "            if i==j:\n",
    "                count += 1\n",
    "        if count ==1:\n",
    "            \n",
    "            stack.append(i)\n",
    "    return stack \n",
    "        \n",
    "        \n",
    "        \n",
    "       \n",
    "        \n",
    "li=[2,3,1,6,3,6,2]\n",
    "li2=[1,3,1,3, 6, 6, 7, 10, 7]\n",
    "\n",
    "\n",
    "    \n",
    "\n",
    "print(findUnique(li2))\n",
    "        \n",
    "    \n",
    "    "
   ]
  },
  {
   "cell_type": "code",
   "execution_count": null,
   "metadata": {},
   "outputs": [],
   "source": []
  },
  {
   "cell_type": "code",
   "execution_count": 21,
   "metadata": {},
   "outputs": [
    {
     "name": "stdout",
     "output_type": "stream",
     "text": [
      "[10, 33]\n"
     ]
    }
   ],
   "source": [
    "# print duplicates in arr\n",
    "def duplicates(li):\n",
    "    stack=[]\n",
    "    for i in range(0,len(li)-1):\n",
    "        count=0\n",
    "        if li[i] in li[i+1:len(li)]:\n",
    "            count+=1\n",
    "        if count>0:\n",
    "            stack.append(li[i])\n",
    "    return stack\n",
    "            \n",
    "li=[10,33,54,10,33] \n",
    "print(duplicates(li))       "
   ]
  },
  {
   "cell_type": "code",
   "execution_count": 23,
   "metadata": {},
   "outputs": [
    {
     "name": "stdout",
     "output_type": "stream",
     "text": [
      "[10, 33, 10, 33]\n"
     ]
    }
   ],
   "source": [
    "# intersection of two arr\n",
    "def intersection(nums1,nums2):\n",
    "    temp=[]\n",
    "    for i in nums1:\n",
    "        if i in nums2:\n",
    "            temp.append(i)\n",
    "    return temp\n",
    "li=[10,33,54,10,33]\n",
    "li1=[10,33,10,33]\n",
    "print(intersection(li,li1))"
   ]
  },
  {
   "cell_type": "code",
   "execution_count": 32,
   "metadata": {},
   "outputs": [
    {
     "name": "stdout",
     "output_type": "stream",
     "text": [
      "[(10, 20), (20, 30), (30, 30)]\n"
     ]
    }
   ],
   "source": [
    "#pairsum\n",
    "def pairSum1(li,target):\n",
    "    temp=[]\n",
    "    for i in range(0,len(li)-1):\n",
    "        j=i+1\n",
    "        for k in li[j:len(li)]:\n",
    "            \n",
    "            if li[i]+ k==target:\n",
    "                temp.append((li[i],li[j]))\n",
    "    return temp\n",
    "li=[10,20,30,30,40,50,60,70]\n",
    "print(pairSum1(li,60))"
   ]
  },
  {
   "cell_type": "code",
   "execution_count": 33,
   "metadata": {},
   "outputs": [
    {
     "name": "stdout",
     "output_type": "stream",
     "text": [
      "[44, 27, 4, 1, 5, 0, 0]\n"
     ]
    }
   ],
   "source": [
    "# push zero to end\n",
    "def pushZero(li):\n",
    "    stack=[]\n",
    "    zeros=[]\n",
    "    for i in li:\n",
    "        if i!=0:\n",
    "            stack.append(i)\n",
    "        else:\n",
    "            zeros.append(i)\n",
    "    return stack+zeros\n",
    "li=[44,27,0,4,1,0,5]\n",
    "print(pushZero(li))\n",
    "    "
   ]
  },
  {
   "cell_type": "code",
   "execution_count": 34,
   "metadata": {},
   "outputs": [
    {
     "name": "stdout",
     "output_type": "stream",
     "text": [
      "[4, 1, 0, 5, 44, 27, 0]\n"
     ]
    }
   ],
   "source": [
    "# rotate array \n",
    "def rotateArray(li,pos):\n",
    "   for i in range(0,pos):\n",
    "       li.append(li.pop(0))\n",
    "   return li\n",
    "\n",
    "li=[44,27,0,4,1,0,5]   \n",
    "print(rotateArray(li,3))         "
   ]
  },
  {
   "cell_type": "code",
   "execution_count": 38,
   "metadata": {},
   "outputs": [
    {
     "name": "stdout",
     "output_type": "stream",
     "text": [
      "44\n",
      "27\n"
     ]
    }
   ],
   "source": [
    "#second largest\n",
    "def second_largest(li):\n",
    "    l=0\n",
    "    sl=0\n",
    "    if li[0]>li[1]:\n",
    "        l,sl=li[0],li[1]\n",
    "    else:\n",
    "        l,sl=li[1],li[0]\n",
    "    for i in li[2:len(li)]:\n",
    "        if i >l:\n",
    "            sl=l\n",
    "            l=i\n",
    "        elif i>sl and i!=l:\n",
    "            sl=i\n",
    "    \n",
    "           \n",
    "    return sl    \n",
    "            \n",
    "li=[44,27,0,4,1,0,5] \n",
    "print(second_largest(li))     "
   ]
  },
  {
   "cell_type": "code",
   "execution_count": 61,
   "metadata": {},
   "outputs": [
    {
     "name": "stdout",
     "output_type": "stream",
     "text": [
      "3\n"
     ]
    }
   ],
   "source": [
    "#rotation index\n",
    "def rotationInd(li):\n",
    "    s=0\n",
    "    e=len(li)-1\n",
    "    while s<e:\n",
    "        mid=s+(e-s)//2\n",
    "        if li[mid] > li[e]:\n",
    "            s = mid + 1\n",
    "        else:\n",
    "            e = mid\n",
    "    return s        \n",
    "li=[4,5,6,0,1,2,3]   \n",
    "print(rotationInd(li))         "
   ]
  },
  {
   "cell_type": "code",
   "execution_count": 1,
   "metadata": {},
   "outputs": [],
   "source": [
    "def sumtwoarrays(a,b):\n",
    "    sum1=len\n",
    "    sum2=0\n",
    "    for i in a:\n",
    "        sum1=sum1+i\n",
    "    for i in b:\n",
    "        sum2=sum2+i\n",
    "    return (sum1+sum2)\n",
    "a=[2,4,10]\n",
    "b=[10,6,8,9,3]    \n",
    "    \n",
    "        "
   ]
  },
  {
   "cell_type": "code",
   "execution_count": null,
   "metadata": {},
   "outputs": [],
   "source": []
  }
 ],
 "metadata": {
  "kernelspec": {
   "display_name": "Python 3",
   "language": "python",
   "name": "python3"
  },
  "language_info": {
   "codemirror_mode": {
    "name": "ipython",
    "version": 3
   },
   "file_extension": ".py",
   "mimetype": "text/x-python",
   "name": "python",
   "nbconvert_exporter": "python",
   "pygments_lexer": "ipython3",
   "version": "3.11.4"
  }
 },
 "nbformat": 4,
 "nbformat_minor": 2
}
