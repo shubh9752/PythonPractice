{
 "cells": [
  {
   "cell_type": "markdown",
   "metadata": {},
   "source": [
    "###problem1"
   ]
  },
  {
   "cell_type": "markdown",
   "metadata": {},
   "source": [
    "Arithmetic Progression\n",
    "Send Feedback\n",
    "You are given first three entries of an arithmetic progression. You have to calculate the common difference and print it.\n",
    "Input format:\n",
    "The first line of input contains an integer a (1 <= a <= 100)\n",
    "The second line of input contains an integer b (1 <= b <= 100) \n",
    "The third line of input contains an integer c (1 <= c <= 100) \n",
    "Constraints:\n",
    "Time Limit: 1 second\n",
    "Output format:\n",
    "The first and only line of output contains the result.  \n",
    "Sample Input:\n",
    "1\n",
    "3\n",
    "5\n",
    "Sample Output:\n",
    "2\n",
    "\n"
   ]
  },
  {
   "cell_type": "code",
   "execution_count": 1,
   "metadata": {},
   "outputs": [
    {
     "name": "stdout",
     "output_type": "stream",
     "text": [
      "0\n"
     ]
    }
   ],
   "source": [
    "a=int(input())\n",
    "b=int(input())\n",
    "c=int(input())\n",
    "diff=b-a\n",
    "print(diff)"
   ]
  },
  {
   "cell_type": "markdown",
   "metadata": {},
   "source": []
  },
  {
   "cell_type": "markdown",
   "metadata": {},
   "source": [
    "Mean of a list"
   ]
  },
  {
   "cell_type": "code",
   "execution_count": 2,
   "metadata": {},
   "outputs": [
    {
     "data": {
      "text/plain": [
       "25.0"
      ]
     },
     "execution_count": 2,
     "metadata": {},
     "output_type": "execute_result"
    }
   ],
   "source": [
    "def meanOfli(li):\n",
    "    total=sum(li)\n",
    "    length=len(li)\n",
    "    return total/length\n",
    "li1=[10,20,30,40]\n",
    "meanOfli(li1)\n",
    "    "
   ]
  },
  {
   "cell_type": "code",
   "execution_count": 3,
   "metadata": {},
   "outputs": [
    {
     "data": {
      "text/plain": [
       "25.0"
      ]
     },
     "execution_count": 3,
     "metadata": {},
     "output_type": "execute_result"
    }
   ],
   "source": [
    "def meanofLi(li):\n",
    "    sum=0\n",
    "    for ele in li:\n",
    "        sum += ele\n",
    "    leng=len(li)\n",
    "    return sum/leng\n",
    "meanofLi(li1)"
   ]
  },
  {
   "cell_type": "markdown",
   "metadata": {},
   "source": [
    "Separate odd and even from li"
   ]
  },
  {
   "cell_type": "code",
   "execution_count": 4,
   "metadata": {},
   "outputs": [
    {
     "data": {
      "text/plain": [
       "([1, 5, 9, 45], [2, 4, 6])"
      ]
     },
     "execution_count": 4,
     "metadata": {},
     "output_type": "execute_result"
    }
   ],
   "source": [
    "def separteOddEven(li):\n",
    "    odd=[]\n",
    "    even=[]\n",
    "    for ele in li:\n",
    "        if ele%2==0:\n",
    "            even.append(ele)\n",
    "        else:\n",
    "            odd.append(ele)\n",
    "    # print(even)\n",
    "    # print(odd)\n",
    "    return odd,even\n",
    "li2=[1,2,4,5,9,6,45]\n",
    "separteOddEven(li2)"
   ]
  },
  {
   "cell_type": "markdown",
   "metadata": {},
   "source": [
    "Get smaller elements from target"
   ]
  },
  {
   "cell_type": "code",
   "execution_count": 5,
   "metadata": {},
   "outputs": [
    {
     "data": {
      "text/plain": [
       "[10, 5, 7, 14, 9]"
      ]
     },
     "execution_count": 5,
     "metadata": {},
     "output_type": "execute_result"
    }
   ],
   "source": [
    "def smallerN(li,target):\n",
    "    arr=[]\n",
    "    for ele in li:\n",
    "        if ele<target:\n",
    "            arr.append(ele)\n",
    "    return arr\n",
    "l4=[10,30,29,5,7,14,9]\n",
    "smallerN(l4,20)"
   ]
  },
  {
   "cell_type": "markdown",
   "metadata": {},
   "source": [
    "Reverse a number "
   ]
  },
  {
   "cell_type": "code",
   "execution_count": 6,
   "metadata": {},
   "outputs": [
    {
     "name": "stdout",
     "output_type": "stream",
     "text": [
      "1\n"
     ]
    }
   ],
   "source": [
    "a=int(input())\n",
    "count =\"\"\n",
    "while a>0:\n",
    "    b=str(a%10)\n",
    "    count=count+b\n",
    "    a=a//10\n",
    "count=int(count)\n",
    "print(count)"
   ]
  },
  {
   "cell_type": "code",
   "execution_count": 7,
   "metadata": {},
   "outputs": [
    {
     "name": "stdout",
     "output_type": "stream",
     "text": [
      "0 1 8 27 64 "
     ]
    }
   ],
   "source": [
    "# print cubes of 8 upto n:\n",
    "a=100\n",
    "for i in range (a+1):\n",
    "    # if i**3>=a:\n",
    "    #     break\n",
    "    if i**3>=100:\n",
    "        break\n",
    "    else:\n",
    "        print(i**3,end=\" \")"
   ]
  },
  {
   "cell_type": "code",
   "execution_count": 8,
   "metadata": {},
   "outputs": [
    {
     "name": "stdout",
     "output_type": "stream",
     "text": [
      "*****\n",
      "****\n",
      "***\n",
      "**\n",
      "*\n"
     ]
    }
   ],
   "source": [
    "a=5\n",
    "for i in range (a):\n",
    "    print((\"*\")*(a-i))"
   ]
  },
  {
   "cell_type": "code",
   "execution_count": 9,
   "metadata": {},
   "outputs": [
    {
     "data": {
      "text/plain": [
       "[12, 12, 12, 12, 15, 13, 15, 12, 42, 13, 57, 545]"
      ]
     },
     "execution_count": 9,
     "metadata": {},
     "output_type": "execute_result"
    }
   ],
   "source": [
    "a=int(input())\n",
    "b=[]\n",
    "for i in range (a):\n",
    "    value=int(input())\n",
    "    b.append(value)\n",
    "b\n",
    "    "
   ]
  },
  {
   "cell_type": "code",
   "execution_count": 10,
   "metadata": {},
   "outputs": [
    {
     "name": "stdout",
     "output_type": "stream",
     "text": [
      "60\n"
     ]
    }
   ],
   "source": [
    "import sys\n",
    "\n",
    "a=[10,20,30,40,60,24,59,32]\n",
    "small=-sys.maxsize\n",
    "maxele=0\n",
    "for ele in a:\n",
    "    if ele>small:\n",
    "        small=ele\n",
    "print(small)"
   ]
  },
  {
   "cell_type": "markdown",
   "metadata": {},
   "source": [
    "print subarrays\n"
   ]
  },
  {
   "cell_type": "code",
   "execution_count": 38,
   "metadata": {},
   "outputs": [
    {
     "name": "stdout",
     "output_type": "stream",
     "text": [
      "inside j if  10\n",
      "[10]\n",
      "inside j if  33\n",
      "[10, 23]\n",
      "inside j if  40\n",
      "[10, 23, 7]\n",
      "inside j if  126\n",
      "[10, 23, 7, 86]\n",
      "[23]\n",
      "[23, 7]\n",
      "[23, 7, 86]\n",
      "[7]\n",
      "[7, 86]\n",
      "[86]\n",
      "last 126\n"
     ]
    }
   ],
   "source": [
    "import sys\n",
    "a=[10,23,7,86]\n",
    "b=-sys.maxsize\n",
    "for i in range (len(a)):\n",
    "    # print(b)\n",
    "    for j in range(i,len(a)):\n",
    "            subarray =( a[i:j+1])\n",
    "            c=sum(subarray)\n",
    "            if c>b:\n",
    "                b=c\n",
    "                print(\"inside j if \",b)\n",
    "          \n",
    "            print(subarray)\n",
    "print(\"last\",b)\n",
    "            \n",
    "# print(subarray)"
   ]
  }
 ],
 "metadata": {
  "kernelspec": {
   "display_name": "Python 3",
   "language": "python",
   "name": "python3"
  },
  "language_info": {
   "codemirror_mode": {
    "name": "ipython",
    "version": 3
   },
   "file_extension": ".py",
   "mimetype": "text/x-python",
   "name": "python",
   "nbconvert_exporter": "python",
   "pygments_lexer": "ipython3",
   "version": "3.11.4"
  },
  "orig_nbformat": 4
 },
 "nbformat": 4,
 "nbformat_minor": 2
}
