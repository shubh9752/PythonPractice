{
 "cells": [
  {
   "cell_type": "code",
   "execution_count": null,
   "metadata": {},
   "outputs": [],
   "source": []
  },
  {
   "cell_type": "markdown",
   "metadata": {},
   "source": [
    "searching in arr using linear search"
   ]
  },
  {
   "cell_type": "code",
   "execution_count": 5,
   "metadata": {},
   "outputs": [
    {
     "data": {
      "text/plain": [
       "2"
      ]
     },
     "execution_count": 5,
     "metadata": {},
     "output_type": "execute_result"
    }
   ],
   "source": [
    "def linearSearch(arr,target):\n",
    "    for i in range(len(arr)):\n",
    "        if arr[i]==target:\n",
    "            return i\n",
    "    return -1\n",
    "n=int(input())\n",
    "arr1=[]\n",
    "for i in range(n):\n",
    "    value=int(input())\n",
    "    arr1.append(value)\n",
    "    \n",
    "arr=[1,3,5,6,7]\n",
    "tar=int(input(\"enter target value\"))\n",
    "linearSearch(arr1,tar)"
   ]
  },
  {
   "cell_type": "markdown",
   "metadata": {},
   "source": [
    "reversing a list"
   ]
  },
  {
   "cell_type": "code",
   "execution_count": 10,
   "metadata": {},
   "outputs": [
    {
     "name": "stdout",
     "output_type": "stream",
     "text": [
      "2059348299456\n",
      "2059348299456\n",
      "2059348299456\n",
      "[50, 40, 30, 20, 10]\n",
      "[50, 40, 30, 20, 10]\n"
     ]
    }
   ],
   "source": [
    "def reverse_li(arr):\n",
    "    print(id(arr))\n",
    "    length=len(arr)\n",
    "    num=arr\n",
    "    # num=[]\n",
    "    print(id(num))\n",
    "    \n",
    "    for i in range(len(num)//2):\n",
    "        num[i],num[length-i-1]=num[length-i-1],num[i]\n",
    "    return num\n",
    "    # return arr[::-1]\n",
    "\n",
    "num=[10,20,30,40,50]\n",
    "print(id(num))\n",
    "print(reverse_li(num))\n",
    "print(num)"
   ]
  },
  {
   "cell_type": "markdown",
   "metadata": {},
   "source": []
  },
  {
   "cell_type": "markdown",
   "metadata": {},
   "source": [
    "BinarySearch"
   ]
  },
  {
   "cell_type": "code",
   "execution_count": 11,
   "metadata": {},
   "outputs": [
    {
     "data": {
      "text/plain": [
       "3"
      ]
     },
     "execution_count": 11,
     "metadata": {},
     "output_type": "execute_result"
    }
   ],
   "source": [
    "def searchingBinary(li,target):\n",
    "    low = 0; high=len(li)-1\n",
    "    while low<=high:\n",
    "        mid=(low+high)//2\n",
    "        if target==li[mid]:\n",
    "            return mid\n",
    "        elif target<li[mid]:\n",
    "            high=mid-1\n",
    "        else:\n",
    "            low=mid+1\n",
    "    return -1\n",
    "    \n",
    "\n",
    "li2=[10,20,30,40,50]\n",
    "searchingBinary(li2,40)\n"
   ]
  },
  {
   "cell_type": "markdown",
   "metadata": {},
   "source": [
    "SELECTION SORT"
   ]
  },
  {
   "cell_type": "code",
   "execution_count": 13,
   "metadata": {},
   "outputs": [
    {
     "data": {
      "text/plain": [
       "[-8, 0, 5, 7, 10, 22, 36]"
      ]
     },
     "execution_count": 13,
     "metadata": {},
     "output_type": "execute_result"
    }
   ],
   "source": [
    "def selectionSort(li1):\n",
    "    for i in range (len(li1)):\n",
    "        for j in range(i+1,len(li1)):\n",
    "            if li1[i]>li1[j]:\n",
    "                li1[i],li1[j]=li1[j],li1[i]\n",
    "    return li1\n",
    "\n",
    "arr2=[10,5,7,22,36,0,-8]\n",
    "selectionSort(arr2)"
   ]
  }
 ],
 "metadata": {
  "kernelspec": {
   "display_name": "Python 3",
   "language": "python",
   "name": "python3"
  },
  "language_info": {
   "codemirror_mode": {
    "name": "ipython",
    "version": 3
   },
   "file_extension": ".py",
   "mimetype": "text/x-python",
   "name": "python",
   "nbconvert_exporter": "python",
   "pygments_lexer": "ipython3",
   "version": "3.11.4"
  },
  "orig_nbformat": 4
 },
 "nbformat": 4,
 "nbformat_minor": 2
}
