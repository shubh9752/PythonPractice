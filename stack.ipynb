{
 "cells": [
  {
   "cell_type": "code",
   "execution_count": 24,
   "metadata": {},
   "outputs": [
    {
     "name": "stdout",
     "output_type": "stream",
     "text": [
      "false\n"
     ]
    }
   ],
   "source": [
    "from collections import deque\n",
    "\n",
    "stack=deque()\n",
    "\n",
    "stack.append(10)\n",
    "stack.append(9)\n",
    "stack.append(8)\n",
    "stack.append(11)\n",
    "stack.append(4)\n",
    "stack.append(6)\n",
    "stack.pop()\n",
    "\n",
    "def isValid(string):\n",
    "    parenthesis={\"(\":\")\",\"[\":\"]\",\"{\":\"}\" }\n",
    "    params=[\"[\",\"{\",\"(\"]\n",
    "    stack1=deque()\n",
    "    for i in string:\n",
    "        if i in params:\n",
    "            stack1.append(i)\n",
    "        elif stack1 and i==parenthesis[stack1[-1]]:\n",
    "            stack1.pop()\n",
    "        else:\n",
    "            return False\n",
    "        \n",
    "        \n",
    "    return True\n",
    "string=\"{[(){}}]}\"\n",
    "# print(stack[-1])\n",
    "if isValid(string):\n",
    "    print(\"true\")\n",
    "else:\n",
    "    print(\"false\")\n",
    "\n"
   ]
  },
  {
   "cell_type": "code",
   "execution_count": 7,
   "metadata": {},
   "outputs": [
    {
     "name": "stdout",
     "output_type": "stream",
     "text": [
      "True\n"
     ]
    }
   ],
   "source": [
    "def validP(string):\n",
    "    d={\"{\":\"}\",\"(\":\")\",\"[\":\"]\"}\n",
    "    s=(\"{\",\"(\",\"[\")\n",
    "    stack=[]\n",
    "    for i in string:\n",
    "        if i in s:\n",
    "            stack.append(i)\n",
    "        else:\n",
    "            if i==d[stack[-1]]:\n",
    "                stack.pop()\n",
    "        \n",
    "    return True if len(stack)<=0 else False\n",
    "string=\"{[{(){}}]}\"\n",
    "print(validP(string))        "
   ]
  },
  {
   "cell_type": "code",
   "execution_count": null,
   "metadata": {},
   "outputs": [],
   "source": [
    "def pusshandPop(pushed,popped):\n",
    "    stack=deque()\n",
    "    j=0\n",
    "    for i in pushed:\n",
    "        stack.append(i)\n",
    "        while stack and popped[j]==stack[-1]:\n",
    "            stack.pop()\n",
    "            j+=1\n",
    "    if stack:\n",
    "        return False\n",
    "    else:\n",
    "        return True\n",
    "            "
   ]
  },
  {
   "cell_type": "code",
   "execution_count": 13,
   "metadata": {},
   "outputs": [
    {
     "name": "stdout",
     "output_type": "stream",
     "text": [
      "ay\n"
     ]
    }
   ],
   "source": [
    "#remove duplicates\n",
    "from collections import deque\n",
    "def remDup(li):\n",
    "    stack=deque()\n",
    "    for i in li:\n",
    "        if stack and i==stack[-1]:\n",
    "            stack.pop()\n",
    "        else:\n",
    "            stack.append(i)\n",
    "    return \"\".join(stack)\n",
    "s = \"azxxzy\"\n",
    "print(remDup(s))"
   ]
  },
  {
   "cell_type": "code",
   "execution_count": 5,
   "metadata": {},
   "outputs": [
    {
     "name": "stdout",
     "output_type": "stream",
     "text": [
      "0\n",
      "2\n",
      "6\n",
      "7\n",
      "9\n",
      "9\n",
      "9\n"
     ]
    }
   ],
   "source": [
    "def waterTrapping(h):\n",
    "    n=len(h)\n",
    "    ans=0\n",
    "    maxA=[0]*n\n",
    "    maxR=[0]*n\n",
    "    maxA[0]=h[0]\n",
    "    for i in range(1,n):\n",
    "        maxA[i]=max(maxA[i-1],h[i])\n",
    "    maxR[-1]=h[-1]\n",
    "    for i in range(len(h)-2,-1,-1):\n",
    "        maxR[i]=max(maxR[i+1],h[i])\n",
    "    for i in range(n):\n",
    "        ans += min(maxA[i],maxR[i])-h[i]\n",
    "        print(ans)\n",
    "    return ans\n",
    "height1 = [0,1,0,2,1,0,1,3,2,1,2,1]\n",
    "height2 = [4,2,0,3,2,5]\n",
    "print(waterTrapping(height2))\n",
    "        "
   ]
  }
 ],
 "metadata": {
  "kernelspec": {
   "display_name": "Python 3",
   "language": "python",
   "name": "python3"
  },
  "language_info": {
   "codemirror_mode": {
    "name": "ipython",
    "version": 3
   },
   "file_extension": ".py",
   "mimetype": "text/x-python",
   "name": "python",
   "nbconvert_exporter": "python",
   "pygments_lexer": "ipython3",
   "version": "3.11.4"
  }
 },
 "nbformat": 4,
 "nbformat_minor": 2
}
