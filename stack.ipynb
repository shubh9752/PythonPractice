{
 "cells": [
  {
   "cell_type": "code",
   "execution_count": 24,
   "metadata": {},
   "outputs": [
    {
     "name": "stdout",
     "output_type": "stream",
     "text": [
      "false\n"
     ]
    }
   ],
   "source": [
    "from collections import deque\n",
    "\n",
    "stack=deque()\n",
    "\n",
    "stack.append(10)\n",
    "stack.append(9)\n",
    "stack.append(8)\n",
    "stack.append(11)\n",
    "stack.append(4)\n",
    "stack.append(6)\n",
    "stack.pop()\n",
    "\n",
    "def isValid(string):\n",
    "    parenthesis={\"(\":\")\",\"[\":\"]\",\"{\":\"}\" }\n",
    "    params=[\"[\",\"{\",\"(\"]\n",
    "    stack1=deque()\n",
    "    for i in string:\n",
    "        if i in params:\n",
    "            stack1.append(i)\n",
    "        elif stack1 and i==parenthesis[stack1[-1]]:\n",
    "            stack1.pop()\n",
    "        else:\n",
    "            return False\n",
    "        \n",
    "        \n",
    "    return True\n",
    "string=\"{[(){}}]}\"\n",
    "# print(stack[-1])\n",
    "if isValid(string):\n",
    "    print(\"true\")\n",
    "else:\n",
    "    print(\"false\")\n",
    "\n"
   ]
  }
 ],
 "metadata": {
  "kernelspec": {
   "display_name": "Python 3",
   "language": "python",
   "name": "python3"
  },
  "language_info": {
   "codemirror_mode": {
    "name": "ipython",
    "version": 3
   },
   "file_extension": ".py",
   "mimetype": "text/x-python",
   "name": "python",
   "nbconvert_exporter": "python",
   "pygments_lexer": "ipython3",
   "version": "3.11.4"
  }
 },
 "nbformat": 4,
 "nbformat_minor": 2
}
