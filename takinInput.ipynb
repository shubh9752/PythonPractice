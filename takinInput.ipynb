{
 "cells": [
  {
   "cell_type": "markdown",
   "metadata": {},
   "source": []
  },
  {
   "cell_type": "markdown",
   "metadata": {},
   "source": []
  },
  {
   "cell_type": "markdown",
   "metadata": {},
   "source": [
    "###taking input"
   ]
  },
  {
   "cell_type": "code",
   "execution_count": null,
   "metadata": {},
   "outputs": [],
   "source": [
    "#input will take input from user and return in string no matter what you give as an input\n",
    "a=input()\n",
    "b=input()\n",
    "c=a+b\n",
    "print(c)"
   ]
  },
  {
   "cell_type": "code",
   "execution_count": null,
   "metadata": {},
   "outputs": [],
   "source": [
    "#to take input as an int \n",
    "a=int(input(\"enter a number\"))\n",
    "b=int(input(\"enter a digit\"))\n",
    "print(a+b)"
   ]
  },
  {
   "cell_type": "code",
   "execution_count": null,
   "metadata": {},
   "outputs": [],
   "source": [
    "#explicit type casting\n",
    "a=input()\n",
    "print(type(a))\n",
    "a=int(a)# you cant change float into int\n",
    "print(a)\n",
    "print(type(a))"
   ]
  },
  {
   "cell_type": "code",
   "execution_count": 1,
   "metadata": {},
   "outputs": [
    {
     "name": "stdout",
     "output_type": "stream",
     "text": [
      "s\n",
      "h\n",
      "u\n",
      "b\n",
      "h\n",
      "a\n",
      "m\n"
     ]
    }
   ],
   "source": [
    "for x in \"shubham\":\n",
    "    print(x)"
   ]
  },
  {
   "cell_type": "code",
   "execution_count": 4,
   "metadata": {},
   "outputs": [
    {
     "name": "stdout",
     "output_type": "stream",
     "text": [
      "aa gaya maja bolo\n",
      "6\n"
     ]
    }
   ],
   "source": [
    "st=str(input(\"likho jo likhna hai\"));\n",
    "count=0\n",
    "for x in st:\n",
    "    \n",
    "    if(x==\"a\"):\n",
    "        count=count+1;\n",
    "print(st)\n",
    "print(count)"
   ]
  },
  {
   "cell_type": "code",
   "execution_count": 7,
   "metadata": {},
   "outputs": [
    {
     "name": "stdout",
     "output_type": "stream",
     "text": [
      "to chal fi"
     ]
    }
   ],
   "source": [
    "st=str(input(\"enter kuch\"));\n",
    "temp=\"\";\n",
    "for x in st:\n",
    "    # temp=temp+x;\n",
    "    if(x==\"r\"):\n",
    "        break\n",
    "    else:\n",
    "        print(x,end=\"\");\n",
    "else:\n",
    "    print(st)"
   ]
  }
 ],
 "metadata": {
  "kernelspec": {
   "display_name": "Python 3",
   "language": "python",
   "name": "python3"
  },
  "language_info": {
   "codemirror_mode": {
    "name": "ipython",
    "version": 3
   },
   "file_extension": ".py",
   "mimetype": "text/x-python",
   "name": "python",
   "nbconvert_exporter": "python",
   "pygments_lexer": "ipython3",
   "version": "3.11.4"
  },
  "orig_nbformat": 4
 },
 "nbformat": 4,
 "nbformat_minor": 2
}
