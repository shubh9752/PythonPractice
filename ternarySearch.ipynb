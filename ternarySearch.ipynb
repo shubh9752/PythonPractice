{
 "cells": [
  {
   "cell_type": "code",
   "execution_count": 4,
   "metadata": {},
   "outputs": [
    {
     "name": "stdout",
     "output_type": "stream",
     "text": [
      "8\n"
     ]
    }
   ],
   "source": [
    "def ternarySearch(arr,s,e,target):\n",
    "   \n",
    "    while s<=e:\n",
    "        mid1=s+(e-s)//3\n",
    "        mid2=e-(e-s)//3\n",
    "        if arr[mid1]==target:\n",
    "            return mid1\n",
    "        elif arr[mid2]==target:\n",
    "            return mid2\n",
    "        elif arr[mid1]>target:\n",
    "            return ternarySearch(arr,s,mid1-1,target)\n",
    "        elif arr[mid2]<target:\n",
    "            return ternarySearch(arr,mid2+1,e,target)\n",
    "        else:\n",
    "            return ternarySearch(arr,mid1+1,mid2-1,target)\n",
    "    return -1\n",
    "li=[20,25,47,56,59,63,65,79,82]\n",
    "print(ternarySearch(li,0,len(li)-1,82))"
   ]
  },
  {
   "cell_type": "code",
   "execution_count": 11,
   "metadata": {},
   "outputs": [
    {
     "name": "stdout",
     "output_type": "stream",
     "text": [
      "[0, 1, 2, 3, 4, 4, 7, 9]\n"
     ]
    }
   ],
   "source": [
    "#bubble sort\n",
    "def buble(li):\n",
    "    for i in range(0,len(li)):\n",
    "        for j in range(0,len(li)-i-1):\n",
    "            if li[j]>li[j+1]:\n",
    "                li[j],li[j+1]=li[j+1],li[j]\n",
    "    return li\n",
    "li=[3,7,4,1,0,9,4,2]\n",
    "print(buble(li))\n",
    "                "
   ]
  },
  {
   "cell_type": "code",
   "execution_count": 12,
   "metadata": {},
   "outputs": [
    {
     "name": "stdout",
     "output_type": "stream",
     "text": [
      "[0, 1, 2, 3, 4, 4, 7, 9]\n"
     ]
    }
   ],
   "source": [
    "#selection sort\n",
    "def selectionSort(li):\n",
    "    for i in range(len(li)):\n",
    "        k=i\n",
    "        for j in range(i+1,len(li)):\n",
    "            if li[k]>li[j]:\n",
    "                k=j\n",
    "        li[i],li[k]=li[k],li[i]\n",
    "    return li\n",
    "\n",
    "li=[3,7,4,1,0,9,4,2]\n",
    "print(selectionSort(li))"
   ]
  },
  {
   "cell_type": "code",
   "execution_count": 15,
   "metadata": {},
   "outputs": [
    {
     "name": "stdout",
     "output_type": "stream",
     "text": [
      "[0, 1, 2, 3, 4, 4, 7, 9]\n"
     ]
    }
   ],
   "source": [
    "# insertionsort\n",
    "def insertionSort(li):\n",
    "    n=len(li)\n",
    "    for i in range(1,n):\n",
    "        key=li[i]\n",
    "        j=i-1\n",
    "        while j>=0 and key<li[j]:\n",
    "            li[j+1]=li[j]\n",
    "            j-=1\n",
    "        li[j+1]=key\n",
    "    return li\n",
    "li=[3,7,4,1,0,9,4,2]\n",
    "print(insertionSort(li))"
   ]
  },
  {
   "cell_type": "code",
   "execution_count": null,
   "metadata": {},
   "outputs": [],
   "source": []
  }
 ],
 "metadata": {
  "kernelspec": {
   "display_name": "Python 3",
   "language": "python",
   "name": "python3"
  },
  "language_info": {
   "codemirror_mode": {
    "name": "ipython",
    "version": 3
   },
   "file_extension": ".py",
   "mimetype": "text/x-python",
   "name": "python",
   "nbconvert_exporter": "python",
   "pygments_lexer": "ipython3",
   "version": "3.11.4"
  }
 },
 "nbformat": 4,
 "nbformat_minor": 2
}
